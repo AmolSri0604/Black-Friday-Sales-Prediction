{
  "nbformat": 4,
  "nbformat_minor": 0,
  "metadata": {
    "accelerator": "TPU",
    "colab": {
      "provenance": []
    },
    "kernelspec": {
      "display_name": "Python 3",
      "language": "python",
      "name": "python3"
    },
    "language_info": {
      "codemirror_mode": {
        "name": "ipython",
        "version": 3
      },
      "file_extension": ".py",
      "mimetype": "text/x-python",
      "name": "python",
      "nbconvert_exporter": "python",
      "pygments_lexer": "ipython3",
      "version": "3.7.1"
    },
    "toc": {
      "base_numbering": 1,
      "nav_menu": {},
      "number_sections": true,
      "sideBar": true,
      "skip_h1_title": false,
      "title_cell": "Table of Contents",
      "title_sidebar": "Contents",
      "toc_cell": false,
      "toc_position": {},
      "toc_section_display": true,
      "toc_window_display": false
    },
    "widgets": {
      "application/vnd.jupyter.widget-state+json": {
        "97cc779efb654d7ebbcec85caefa5e4d": {
          "model_module": "catboost-widget",
          "model_name": "CatboostWidgetModel",
          "model_module_version": "^1.0.0",
          "state": {
            "_dom_classes": [],
            "_model_module": "catboost-widget",
            "_model_module_version": "^1.0.0",
            "_model_name": "CatboostWidgetModel",
            "_view_count": null,
            "_view_module": "catboost-widget",
            "_view_module_version": "^1.0.0",
            "_view_name": "CatboostWidgetView",
            "data": {
              "catboost_info": {
                "path": "catboost_info",
                "name": "catboost_info",
                "content": {
                  "passed_iterations": 49,
                  "total_iterations": 50,
                  "data": {
                    "iterations": [
                      {
                        "learn": [
                          4825.939945
                        ],
                        "iteration": 0,
                        "passed_time": 0.1041823305,
                        "remaining_time": 5.104934193,
                        "test": [
                          4814.519542
                        ]
                      },
                      {
                        "learn": [
                          4650.543609
                        ],
                        "iteration": 1,
                        "passed_time": 0.1484301877,
                        "remaining_time": 3.562324505,
                        "test": [
                          4640.669819
                        ]
                      },
                      {
                        "learn": [
                          4507.695856
                        ],
                        "iteration": 2,
                        "passed_time": 0.1892331895,
                        "remaining_time": 2.964653303,
                        "test": [
                          4499.28777
                        ]
                      },
                      {
                        "learn": [
                          4384.13632
                        ],
                        "iteration": 3,
                        "passed_time": 0.2287942778,
                        "remaining_time": 2.631134195,
                        "test": [
                          4376.162638
                        ]
                      },
                      {
                        "learn": [
                          4268.262018
                        ],
                        "iteration": 4,
                        "passed_time": 0.2699789849,
                        "remaining_time": 2.429810864,
                        "test": [
                          4261.709528
                        ]
                      },
                      {
                        "learn": [
                          4172.044269
                        ],
                        "iteration": 5,
                        "passed_time": 0.3182424316,
                        "remaining_time": 2.333777831,
                        "test": [
                          4166.815778
                        ]
                      },
                      {
                        "learn": [
                          4084.395464
                        ],
                        "iteration": 6,
                        "passed_time": 0.3689288234,
                        "remaining_time": 2.266277058,
                        "test": [
                          4079.661897
                        ]
                      },
                      {
                        "learn": [
                          4024.880311
                        ],
                        "iteration": 7,
                        "passed_time": 0.4095893372,
                        "remaining_time": 2.15034402,
                        "test": [
                          4020.47301
                        ]
                      },
                      {
                        "learn": [
                          3959.345339
                        ],
                        "iteration": 8,
                        "passed_time": 0.4501767839,
                        "remaining_time": 2.050805349,
                        "test": [
                          3955.429566
                        ]
                      },
                      {
                        "learn": [
                          3915.043362
                        ],
                        "iteration": 9,
                        "passed_time": 0.4968072786,
                        "remaining_time": 1.987229115,
                        "test": [
                          3911.53411
                        ]
                      },
                      {
                        "learn": [
                          3866.095173
                        ],
                        "iteration": 10,
                        "passed_time": 0.539905077,
                        "remaining_time": 1.914208909,
                        "test": [
                          3863.021998
                        ]
                      },
                      {
                        "learn": [
                          3812.506614
                        ],
                        "iteration": 11,
                        "passed_time": 0.5818112884,
                        "remaining_time": 1.842402413,
                        "test": [
                          3810.663743
                        ]
                      },
                      {
                        "learn": [
                          3768.540576
                        ],
                        "iteration": 12,
                        "passed_time": 0.6294305773,
                        "remaining_time": 1.791456259,
                        "test": [
                          3767.805876
                        ]
                      },
                      {
                        "learn": [
                          3713.231168
                        ],
                        "iteration": 13,
                        "passed_time": 0.6705666217,
                        "remaining_time": 1.72431417,
                        "test": [
                          3712.880668
                        ]
                      },
                      {
                        "learn": [
                          3673.788649
                        ],
                        "iteration": 14,
                        "passed_time": 0.7089994734,
                        "remaining_time": 1.654332104,
                        "test": [
                          3673.92755
                        ]
                      },
                      {
                        "learn": [
                          3651.205715
                        ],
                        "iteration": 15,
                        "passed_time": 0.754858802,
                        "remaining_time": 1.604074954,
                        "test": [
                          3651.685061
                        ]
                      },
                      {
                        "learn": [
                          3619.732792
                        ],
                        "iteration": 16,
                        "passed_time": 0.795807272,
                        "remaining_time": 1.544802352,
                        "test": [
                          3620.643971
                        ]
                      },
                      {
                        "learn": [
                          3590.075412
                        ],
                        "iteration": 17,
                        "passed_time": 0.8426449387,
                        "remaining_time": 1.498035447,
                        "test": [
                          3591.949262
                        ]
                      },
                      {
                        "learn": [
                          3553.396117
                        ],
                        "iteration": 18,
                        "passed_time": 0.8819527171,
                        "remaining_time": 1.438975486,
                        "test": [
                          3555.876659
                        ]
                      },
                      {
                        "learn": [
                          3531.931821
                        ],
                        "iteration": 19,
                        "passed_time": 0.9224444668,
                        "remaining_time": 1.3836667,
                        "test": [
                          3534.788085
                        ]
                      },
                      {
                        "learn": [
                          3518.084522
                        ],
                        "iteration": 20,
                        "passed_time": 0.9692117834,
                        "remaining_time": 1.33843532,
                        "test": [
                          3521.226624
                        ]
                      },
                      {
                        "learn": [
                          3472.021334
                        ],
                        "iteration": 21,
                        "passed_time": 1.009471536,
                        "remaining_time": 1.284781955,
                        "test": [
                          3475.682018
                        ]
                      },
                      {
                        "learn": [
                          3446.337236
                        ],
                        "iteration": 22,
                        "passed_time": 1.056576233,
                        "remaining_time": 1.240328621,
                        "test": [
                          3450.660501
                        ]
                      },
                      {
                        "learn": [
                          3426.573363
                        ],
                        "iteration": 23,
                        "passed_time": 1.095516254,
                        "remaining_time": 1.186809275,
                        "test": [
                          3431.367455
                        ]
                      },
                      {
                        "learn": [
                          3404.490787
                        ],
                        "iteration": 24,
                        "passed_time": 1.137469526,
                        "remaining_time": 1.137469526,
                        "test": [
                          3410.135168
                        ]
                      },
                      {
                        "learn": [
                          3385.57185
                        ],
                        "iteration": 25,
                        "passed_time": 1.183435691,
                        "remaining_time": 1.092402176,
                        "test": [
                          3391.78557
                        ]
                      },
                      {
                        "learn": [
                          3368.510112
                        ],
                        "iteration": 26,
                        "passed_time": 1.269320075,
                        "remaining_time": 1.081272657,
                        "test": [
                          3375.37985
                        ]
                      },
                      {
                        "learn": [
                          3354.928375
                        ],
                        "iteration": 27,
                        "passed_time": 1.370278943,
                        "remaining_time": 1.076647741,
                        "test": [
                          3362.10785
                        ]
                      },
                      {
                        "learn": [
                          3345.453494
                        ],
                        "iteration": 28,
                        "passed_time": 1.462182233,
                        "remaining_time": 1.058821617,
                        "test": [
                          3352.88241
                        ]
                      },
                      {
                        "learn": [
                          3331.579783
                        ],
                        "iteration": 29,
                        "passed_time": 1.522064207,
                        "remaining_time": 1.014709471,
                        "test": [
                          3339.475784
                        ]
                      },
                      {
                        "learn": [
                          3318.523482
                        ],
                        "iteration": 30,
                        "passed_time": 1.604087753,
                        "remaining_time": 0.9831505586,
                        "test": [
                          3326.98545
                        ]
                      },
                      {
                        "learn": [
                          3307.224068
                        ],
                        "iteration": 31,
                        "passed_time": 1.66067177,
                        "remaining_time": 0.9341278705,
                        "test": [
                          3316.091266
                        ]
                      },
                      {
                        "learn": [
                          3276.059251
                        ],
                        "iteration": 32,
                        "passed_time": 1.707263061,
                        "remaining_time": 0.8794991528,
                        "test": [
                          3285.411967
                        ]
                      },
                      {
                        "learn": [
                          3267.411156
                        ],
                        "iteration": 33,
                        "passed_time": 1.749111426,
                        "remaining_time": 0.8231112593,
                        "test": [
                          3277.102463
                        ]
                      },
                      {
                        "learn": [
                          3260.200738
                        ],
                        "iteration": 34,
                        "passed_time": 1.792326812,
                        "remaining_time": 0.7681400624,
                        "test": [
                          3270.116915
                        ]
                      },
                      {
                        "learn": [
                          3235.161213
                        ],
                        "iteration": 35,
                        "passed_time": 1.843437102,
                        "remaining_time": 0.7168922062,
                        "test": [
                          3245.577513
                        ]
                      },
                      {
                        "learn": [
                          3229.244932
                        ],
                        "iteration": 36,
                        "passed_time": 1.886519753,
                        "remaining_time": 0.6628312646,
                        "test": [
                          3239.866161
                        ]
                      },
                      {
                        "learn": [
                          3223.332803
                        ],
                        "iteration": 37,
                        "passed_time": 1.933383122,
                        "remaining_time": 0.6105420387,
                        "test": [
                          3234.161232
                        ]
                      },
                      {
                        "learn": [
                          3217.57615
                        ],
                        "iteration": 38,
                        "passed_time": 1.974096883,
                        "remaining_time": 0.5567965569,
                        "test": [
                          3228.668338
                        ]
                      },
                      {
                        "learn": [
                          3212.992845
                        ],
                        "iteration": 39,
                        "passed_time": 2.015781954,
                        "remaining_time": 0.5039454886,
                        "test": [
                          3224.090225
                        ]
                      },
                      {
                        "learn": [
                          3208.37088
                        ],
                        "iteration": 40,
                        "passed_time": 2.053947695,
                        "remaining_time": 0.4508665672,
                        "test": [
                          3219.702928
                        ]
                      },
                      {
                        "learn": [
                          3204.853197
                        ],
                        "iteration": 41,
                        "passed_time": 2.097615287,
                        "remaining_time": 0.3995457689,
                        "test": [
                          3216.343328
                        ]
                      },
                      {
                        "learn": [
                          3200.889352
                        ],
                        "iteration": 42,
                        "passed_time": 2.14009844,
                        "remaining_time": 0.3483881181,
                        "test": [
                          3212.58049
                        ]
                      },
                      {
                        "learn": [
                          3196.95456
                        ],
                        "iteration": 43,
                        "passed_time": 2.190959701,
                        "remaining_time": 0.298767232,
                        "test": [
                          3208.821301
                        ]
                      },
                      {
                        "learn": [
                          3178.565811
                        ],
                        "iteration": 44,
                        "passed_time": 2.230555414,
                        "remaining_time": 0.2478394905,
                        "test": [
                          3191.063224
                        ]
                      },
                      {
                        "learn": [
                          3175.552831
                        ],
                        "iteration": 45,
                        "passed_time": 2.268799975,
                        "remaining_time": 0.1972869543,
                        "test": [
                          3188.242453
                        ]
                      },
                      {
                        "learn": [
                          3172.744669
                        ],
                        "iteration": 46,
                        "passed_time": 2.312755948,
                        "remaining_time": 0.1476227201,
                        "test": [
                          3185.412081
                        ]
                      },
                      {
                        "learn": [
                          3158.050933
                        ],
                        "iteration": 47,
                        "passed_time": 2.35512974,
                        "remaining_time": 0.09813040582,
                        "test": [
                          3171.120076
                        ]
                      },
                      {
                        "learn": [
                          3149.492024
                        ],
                        "iteration": 48,
                        "passed_time": 2.412196098,
                        "remaining_time": 0.04922849179,
                        "test": [
                          3163.059267
                        ]
                      },
                      {
                        "learn": [
                          3147.314442
                        ],
                        "iteration": 49,
                        "passed_time": 2.454137083,
                        "remaining_time": 0,
                        "test": [
                          3160.857969
                        ]
                      }
                    ],
                    "meta": {
                      "test_sets": [
                        "test"
                      ],
                      "test_metrics": [
                        {
                          "best_value": "Min",
                          "name": "RMSE"
                        }
                      ],
                      "learn_metrics": [
                        {
                          "best_value": "Min",
                          "name": "RMSE"
                        }
                      ],
                      "launch_mode": "Train",
                      "parameters": "",
                      "iteration_count": 50,
                      "learn_sets": [
                        "learn"
                      ],
                      "name": "experiment"
                    }
                  }
                }
              }
            },
            "layout": "IPY_MODEL_635947ddd80440ed8577a5c68cec8518"
          }
        }
      }
    }
  },
  "cells": [
    {
      "cell_type": "markdown",
      "metadata": {
        "id": "GKxsKi8l3MsK"
      },
      "source": [
        "## Step 0: Import libraries and dataset"
      ]
    },
    {
      "cell_type": "code",
      "metadata": {
        "id": "n460x_RH3MsM"
      },
      "source": [
        "# Import libraries\n",
        "import pandas as pd\n",
        "import numpy as np\n",
        "import matplotlib.pyplot as plt\n",
        "import seaborn as sns\n",
        "import statsmodels.api as sm\n",
        "from scipy import stats\n",
        "from sklearn.model_selection import train_test_split\n",
        "from sklearn.metrics import f1_score, accuracy_score\n",
        "import warnings\n",
        "warnings.filterwarnings('ignore')"
      ],
      "execution_count": null,
      "outputs": []
    },
    {
      "cell_type": "code",
      "metadata": {
        "id": "4Kpyxbr93MsZ",
        "outputId": "8a4546ad-68f5-4c2e-b513-6ff9a56cde90",
        "colab": {
          "base_uri": "https://localhost:8080/",
          "height": 363
        }
      },
      "source": [
        "# Importing dataset\n",
        "train = pd.read_csv('/content/sample_data/train (1).csv')\n",
        "test = pd.read_csv('/content/sample_data/test.csv')"
      ],
      "execution_count": null,
      "outputs": [
        {
          "output_type": "error",
          "ename": "FileNotFoundError",
          "evalue": "ignored",
          "traceback": [
            "\u001b[0;31m---------------------------------------------------------------------------\u001b[0m",
            "\u001b[0;31mFileNotFoundError\u001b[0m                         Traceback (most recent call last)",
            "\u001b[0;32m<ipython-input-2-73c49ed575dd>\u001b[0m in \u001b[0;36m<cell line: 2>\u001b[0;34m()\u001b[0m\n\u001b[1;32m      1\u001b[0m \u001b[0;31m# Importing dataset\u001b[0m\u001b[0;34m\u001b[0m\u001b[0;34m\u001b[0m\u001b[0m\n\u001b[0;32m----> 2\u001b[0;31m \u001b[0mtrain\u001b[0m \u001b[0;34m=\u001b[0m \u001b[0mpd\u001b[0m\u001b[0;34m.\u001b[0m\u001b[0mread_csv\u001b[0m\u001b[0;34m(\u001b[0m\u001b[0;34m'/content/sample_data/train (1).csv'\u001b[0m\u001b[0;34m)\u001b[0m\u001b[0;34m\u001b[0m\u001b[0;34m\u001b[0m\u001b[0m\n\u001b[0m\u001b[1;32m      3\u001b[0m \u001b[0mtest\u001b[0m \u001b[0;34m=\u001b[0m \u001b[0mpd\u001b[0m\u001b[0;34m.\u001b[0m\u001b[0mread_csv\u001b[0m\u001b[0;34m(\u001b[0m\u001b[0;34m'/content/sample_data/test.csv'\u001b[0m\u001b[0;34m)\u001b[0m\u001b[0;34m\u001b[0m\u001b[0;34m\u001b[0m\u001b[0m\n",
            "\u001b[0;32m/usr/local/lib/python3.9/dist-packages/pandas/util/_decorators.py\u001b[0m in \u001b[0;36mwrapper\u001b[0;34m(*args, **kwargs)\u001b[0m\n\u001b[1;32m    309\u001b[0m                     \u001b[0mstacklevel\u001b[0m\u001b[0;34m=\u001b[0m\u001b[0mstacklevel\u001b[0m\u001b[0;34m,\u001b[0m\u001b[0;34m\u001b[0m\u001b[0;34m\u001b[0m\u001b[0m\n\u001b[1;32m    310\u001b[0m                 )\n\u001b[0;32m--> 311\u001b[0;31m             \u001b[0;32mreturn\u001b[0m \u001b[0mfunc\u001b[0m\u001b[0;34m(\u001b[0m\u001b[0;34m*\u001b[0m\u001b[0margs\u001b[0m\u001b[0;34m,\u001b[0m \u001b[0;34m**\u001b[0m\u001b[0mkwargs\u001b[0m\u001b[0;34m)\u001b[0m\u001b[0;34m\u001b[0m\u001b[0;34m\u001b[0m\u001b[0m\n\u001b[0m\u001b[1;32m    312\u001b[0m \u001b[0;34m\u001b[0m\u001b[0m\n\u001b[1;32m    313\u001b[0m         \u001b[0;32mreturn\u001b[0m \u001b[0mwrapper\u001b[0m\u001b[0;34m\u001b[0m\u001b[0;34m\u001b[0m\u001b[0m\n",
            "\u001b[0;32m/usr/local/lib/python3.9/dist-packages/pandas/io/parsers/readers.py\u001b[0m in \u001b[0;36mread_csv\u001b[0;34m(filepath_or_buffer, sep, delimiter, header, names, index_col, usecols, squeeze, prefix, mangle_dupe_cols, dtype, engine, converters, true_values, false_values, skipinitialspace, skiprows, skipfooter, nrows, na_values, keep_default_na, na_filter, verbose, skip_blank_lines, parse_dates, infer_datetime_format, keep_date_col, date_parser, dayfirst, cache_dates, iterator, chunksize, compression, thousands, decimal, lineterminator, quotechar, quoting, doublequote, escapechar, comment, encoding, encoding_errors, dialect, error_bad_lines, warn_bad_lines, on_bad_lines, delim_whitespace, low_memory, memory_map, float_precision, storage_options)\u001b[0m\n\u001b[1;32m    676\u001b[0m     \u001b[0mkwds\u001b[0m\u001b[0;34m.\u001b[0m\u001b[0mupdate\u001b[0m\u001b[0;34m(\u001b[0m\u001b[0mkwds_defaults\u001b[0m\u001b[0;34m)\u001b[0m\u001b[0;34m\u001b[0m\u001b[0;34m\u001b[0m\u001b[0m\n\u001b[1;32m    677\u001b[0m \u001b[0;34m\u001b[0m\u001b[0m\n\u001b[0;32m--> 678\u001b[0;31m     \u001b[0;32mreturn\u001b[0m \u001b[0m_read\u001b[0m\u001b[0;34m(\u001b[0m\u001b[0mfilepath_or_buffer\u001b[0m\u001b[0;34m,\u001b[0m \u001b[0mkwds\u001b[0m\u001b[0;34m)\u001b[0m\u001b[0;34m\u001b[0m\u001b[0;34m\u001b[0m\u001b[0m\n\u001b[0m\u001b[1;32m    679\u001b[0m \u001b[0;34m\u001b[0m\u001b[0m\n\u001b[1;32m    680\u001b[0m \u001b[0;34m\u001b[0m\u001b[0m\n",
            "\u001b[0;32m/usr/local/lib/python3.9/dist-packages/pandas/io/parsers/readers.py\u001b[0m in \u001b[0;36m_read\u001b[0;34m(filepath_or_buffer, kwds)\u001b[0m\n\u001b[1;32m    573\u001b[0m \u001b[0;34m\u001b[0m\u001b[0m\n\u001b[1;32m    574\u001b[0m     \u001b[0;31m# Create the parser.\u001b[0m\u001b[0;34m\u001b[0m\u001b[0;34m\u001b[0m\u001b[0m\n\u001b[0;32m--> 575\u001b[0;31m     \u001b[0mparser\u001b[0m \u001b[0;34m=\u001b[0m \u001b[0mTextFileReader\u001b[0m\u001b[0;34m(\u001b[0m\u001b[0mfilepath_or_buffer\u001b[0m\u001b[0;34m,\u001b[0m \u001b[0;34m**\u001b[0m\u001b[0mkwds\u001b[0m\u001b[0;34m)\u001b[0m\u001b[0;34m\u001b[0m\u001b[0;34m\u001b[0m\u001b[0m\n\u001b[0m\u001b[1;32m    576\u001b[0m \u001b[0;34m\u001b[0m\u001b[0m\n\u001b[1;32m    577\u001b[0m     \u001b[0;32mif\u001b[0m \u001b[0mchunksize\u001b[0m \u001b[0;32mor\u001b[0m \u001b[0miterator\u001b[0m\u001b[0;34m:\u001b[0m\u001b[0;34m\u001b[0m\u001b[0;34m\u001b[0m\u001b[0m\n",
            "\u001b[0;32m/usr/local/lib/python3.9/dist-packages/pandas/io/parsers/readers.py\u001b[0m in \u001b[0;36m__init__\u001b[0;34m(self, f, engine, **kwds)\u001b[0m\n\u001b[1;32m    930\u001b[0m \u001b[0;34m\u001b[0m\u001b[0m\n\u001b[1;32m    931\u001b[0m         \u001b[0mself\u001b[0m\u001b[0;34m.\u001b[0m\u001b[0mhandles\u001b[0m\u001b[0;34m:\u001b[0m \u001b[0mIOHandles\u001b[0m \u001b[0;34m|\u001b[0m \u001b[0;32mNone\u001b[0m \u001b[0;34m=\u001b[0m \u001b[0;32mNone\u001b[0m\u001b[0;34m\u001b[0m\u001b[0;34m\u001b[0m\u001b[0m\n\u001b[0;32m--> 932\u001b[0;31m         \u001b[0mself\u001b[0m\u001b[0;34m.\u001b[0m\u001b[0m_engine\u001b[0m \u001b[0;34m=\u001b[0m \u001b[0mself\u001b[0m\u001b[0;34m.\u001b[0m\u001b[0m_make_engine\u001b[0m\u001b[0;34m(\u001b[0m\u001b[0mf\u001b[0m\u001b[0;34m,\u001b[0m \u001b[0mself\u001b[0m\u001b[0;34m.\u001b[0m\u001b[0mengine\u001b[0m\u001b[0;34m)\u001b[0m\u001b[0;34m\u001b[0m\u001b[0;34m\u001b[0m\u001b[0m\n\u001b[0m\u001b[1;32m    933\u001b[0m \u001b[0;34m\u001b[0m\u001b[0m\n\u001b[1;32m    934\u001b[0m     \u001b[0;32mdef\u001b[0m \u001b[0mclose\u001b[0m\u001b[0;34m(\u001b[0m\u001b[0mself\u001b[0m\u001b[0;34m)\u001b[0m\u001b[0;34m:\u001b[0m\u001b[0;34m\u001b[0m\u001b[0;34m\u001b[0m\u001b[0m\n",
            "\u001b[0;32m/usr/local/lib/python3.9/dist-packages/pandas/io/parsers/readers.py\u001b[0m in \u001b[0;36m_make_engine\u001b[0;34m(self, f, engine)\u001b[0m\n\u001b[1;32m   1214\u001b[0m             \u001b[0;31m# \"Union[str, PathLike[str], ReadCsvBuffer[bytes], ReadCsvBuffer[str]]\"\u001b[0m\u001b[0;34m\u001b[0m\u001b[0;34m\u001b[0m\u001b[0m\n\u001b[1;32m   1215\u001b[0m             \u001b[0;31m# , \"str\", \"bool\", \"Any\", \"Any\", \"Any\", \"Any\", \"Any\"\u001b[0m\u001b[0;34m\u001b[0m\u001b[0;34m\u001b[0m\u001b[0m\n\u001b[0;32m-> 1216\u001b[0;31m             self.handles = get_handle(  # type: ignore[call-overload]\n\u001b[0m\u001b[1;32m   1217\u001b[0m                 \u001b[0mf\u001b[0m\u001b[0;34m,\u001b[0m\u001b[0;34m\u001b[0m\u001b[0;34m\u001b[0m\u001b[0m\n\u001b[1;32m   1218\u001b[0m                 \u001b[0mmode\u001b[0m\u001b[0;34m,\u001b[0m\u001b[0;34m\u001b[0m\u001b[0;34m\u001b[0m\u001b[0m\n",
            "\u001b[0;32m/usr/local/lib/python3.9/dist-packages/pandas/io/common.py\u001b[0m in \u001b[0;36mget_handle\u001b[0;34m(path_or_buf, mode, encoding, compression, memory_map, is_text, errors, storage_options)\u001b[0m\n\u001b[1;32m    784\u001b[0m         \u001b[0;32mif\u001b[0m \u001b[0mioargs\u001b[0m\u001b[0;34m.\u001b[0m\u001b[0mencoding\u001b[0m \u001b[0;32mand\u001b[0m \u001b[0;34m\"b\"\u001b[0m \u001b[0;32mnot\u001b[0m \u001b[0;32min\u001b[0m \u001b[0mioargs\u001b[0m\u001b[0;34m.\u001b[0m\u001b[0mmode\u001b[0m\u001b[0;34m:\u001b[0m\u001b[0;34m\u001b[0m\u001b[0;34m\u001b[0m\u001b[0m\n\u001b[1;32m    785\u001b[0m             \u001b[0;31m# Encoding\u001b[0m\u001b[0;34m\u001b[0m\u001b[0;34m\u001b[0m\u001b[0m\n\u001b[0;32m--> 786\u001b[0;31m             handle = open(\n\u001b[0m\u001b[1;32m    787\u001b[0m                 \u001b[0mhandle\u001b[0m\u001b[0;34m,\u001b[0m\u001b[0;34m\u001b[0m\u001b[0;34m\u001b[0m\u001b[0m\n\u001b[1;32m    788\u001b[0m                 \u001b[0mioargs\u001b[0m\u001b[0;34m.\u001b[0m\u001b[0mmode\u001b[0m\u001b[0;34m,\u001b[0m\u001b[0;34m\u001b[0m\u001b[0;34m\u001b[0m\u001b[0m\n",
            "\u001b[0;31mFileNotFoundError\u001b[0m: [Errno 2] No such file or directory: '/content/sample_data/train (1).csv'"
          ]
        }
      ]
    },
    {
      "cell_type": "markdown",
      "metadata": {
        "id": "EWHEVwna3Mse"
      },
      "source": [
        "## Step 1: Descriptive analysis"
      ]
    },
    {
      "cell_type": "code",
      "metadata": {
        "id": "8Tikj5uL3Msf",
        "colab": {
          "base_uri": "https://localhost:8080/",
          "height": 340
        },
        "outputId": "ab7b9bf6-7b26-45eb-903f-b968a65d28b4"
      },
      "source": [
        "# Preview training dataset\n",
        "train.head()"
      ],
      "execution_count": null,
      "outputs": [
        {
          "output_type": "execute_result",
          "data": {
            "text/plain": [
              "   User_ID Product_ID Gender   Age  Occupation City_Category  \\\n",
              "0  1000001  P00069042      F  0-17          10             A   \n",
              "1  1000001  P00248942      F  0-17          10             A   \n",
              "2  1000001  P00087842      F  0-17          10             A   \n",
              "3  1000001  P00085442      F  0-17          10             A   \n",
              "4  1000002  P00285442      M   55+          16             C   \n",
              "\n",
              "  Stay_In_Current_City_Years  Marital_Status  Product_Category_1  \\\n",
              "0                          2               0                   3   \n",
              "1                          2               0                   1   \n",
              "2                          2               0                  12   \n",
              "3                          2               0                  12   \n",
              "4                         4+               0                   8   \n",
              "\n",
              "   Product_Category_2  Product_Category_3  Purchase  \n",
              "0                 NaN                 NaN      8370  \n",
              "1                 6.0                14.0     15200  \n",
              "2                 NaN                 NaN      1422  \n",
              "3                14.0                 NaN      1057  \n",
              "4                 NaN                 NaN      7969  "
            ],
            "text/html": [
              "\n",
              "  <div id=\"df-75e275fe-7f08-4493-9ede-6d3220a17eb9\">\n",
              "    <div class=\"colab-df-container\">\n",
              "      <div>\n",
              "<style scoped>\n",
              "    .dataframe tbody tr th:only-of-type {\n",
              "        vertical-align: middle;\n",
              "    }\n",
              "\n",
              "    .dataframe tbody tr th {\n",
              "        vertical-align: top;\n",
              "    }\n",
              "\n",
              "    .dataframe thead th {\n",
              "        text-align: right;\n",
              "    }\n",
              "</style>\n",
              "<table border=\"1\" class=\"dataframe\">\n",
              "  <thead>\n",
              "    <tr style=\"text-align: right;\">\n",
              "      <th></th>\n",
              "      <th>User_ID</th>\n",
              "      <th>Product_ID</th>\n",
              "      <th>Gender</th>\n",
              "      <th>Age</th>\n",
              "      <th>Occupation</th>\n",
              "      <th>City_Category</th>\n",
              "      <th>Stay_In_Current_City_Years</th>\n",
              "      <th>Marital_Status</th>\n",
              "      <th>Product_Category_1</th>\n",
              "      <th>Product_Category_2</th>\n",
              "      <th>Product_Category_3</th>\n",
              "      <th>Purchase</th>\n",
              "    </tr>\n",
              "  </thead>\n",
              "  <tbody>\n",
              "    <tr>\n",
              "      <th>0</th>\n",
              "      <td>1000001</td>\n",
              "      <td>P00069042</td>\n",
              "      <td>F</td>\n",
              "      <td>0-17</td>\n",
              "      <td>10</td>\n",
              "      <td>A</td>\n",
              "      <td>2</td>\n",
              "      <td>0</td>\n",
              "      <td>3</td>\n",
              "      <td>NaN</td>\n",
              "      <td>NaN</td>\n",
              "      <td>8370</td>\n",
              "    </tr>\n",
              "    <tr>\n",
              "      <th>1</th>\n",
              "      <td>1000001</td>\n",
              "      <td>P00248942</td>\n",
              "      <td>F</td>\n",
              "      <td>0-17</td>\n",
              "      <td>10</td>\n",
              "      <td>A</td>\n",
              "      <td>2</td>\n",
              "      <td>0</td>\n",
              "      <td>1</td>\n",
              "      <td>6.0</td>\n",
              "      <td>14.0</td>\n",
              "      <td>15200</td>\n",
              "    </tr>\n",
              "    <tr>\n",
              "      <th>2</th>\n",
              "      <td>1000001</td>\n",
              "      <td>P00087842</td>\n",
              "      <td>F</td>\n",
              "      <td>0-17</td>\n",
              "      <td>10</td>\n",
              "      <td>A</td>\n",
              "      <td>2</td>\n",
              "      <td>0</td>\n",
              "      <td>12</td>\n",
              "      <td>NaN</td>\n",
              "      <td>NaN</td>\n",
              "      <td>1422</td>\n",
              "    </tr>\n",
              "    <tr>\n",
              "      <th>3</th>\n",
              "      <td>1000001</td>\n",
              "      <td>P00085442</td>\n",
              "      <td>F</td>\n",
              "      <td>0-17</td>\n",
              "      <td>10</td>\n",
              "      <td>A</td>\n",
              "      <td>2</td>\n",
              "      <td>0</td>\n",
              "      <td>12</td>\n",
              "      <td>14.0</td>\n",
              "      <td>NaN</td>\n",
              "      <td>1057</td>\n",
              "    </tr>\n",
              "    <tr>\n",
              "      <th>4</th>\n",
              "      <td>1000002</td>\n",
              "      <td>P00285442</td>\n",
              "      <td>M</td>\n",
              "      <td>55+</td>\n",
              "      <td>16</td>\n",
              "      <td>C</td>\n",
              "      <td>4+</td>\n",
              "      <td>0</td>\n",
              "      <td>8</td>\n",
              "      <td>NaN</td>\n",
              "      <td>NaN</td>\n",
              "      <td>7969</td>\n",
              "    </tr>\n",
              "  </tbody>\n",
              "</table>\n",
              "</div>\n",
              "      <button class=\"colab-df-convert\" onclick=\"convertToInteractive('df-75e275fe-7f08-4493-9ede-6d3220a17eb9')\"\n",
              "              title=\"Convert this dataframe to an interactive table.\"\n",
              "              style=\"display:none;\">\n",
              "        \n",
              "  <svg xmlns=\"http://www.w3.org/2000/svg\" height=\"24px\"viewBox=\"0 0 24 24\"\n",
              "       width=\"24px\">\n",
              "    <path d=\"M0 0h24v24H0V0z\" fill=\"none\"/>\n",
              "    <path d=\"M18.56 5.44l.94 2.06.94-2.06 2.06-.94-2.06-.94-.94-2.06-.94 2.06-2.06.94zm-11 1L8.5 8.5l.94-2.06 2.06-.94-2.06-.94L8.5 2.5l-.94 2.06-2.06.94zm10 10l.94 2.06.94-2.06 2.06-.94-2.06-.94-.94-2.06-.94 2.06-2.06.94z\"/><path d=\"M17.41 7.96l-1.37-1.37c-.4-.4-.92-.59-1.43-.59-.52 0-1.04.2-1.43.59L10.3 9.45l-7.72 7.72c-.78.78-.78 2.05 0 2.83L4 21.41c.39.39.9.59 1.41.59.51 0 1.02-.2 1.41-.59l7.78-7.78 2.81-2.81c.8-.78.8-2.07 0-2.86zM5.41 20L4 18.59l7.72-7.72 1.47 1.35L5.41 20z\"/>\n",
              "  </svg>\n",
              "      </button>\n",
              "      \n",
              "  <style>\n",
              "    .colab-df-container {\n",
              "      display:flex;\n",
              "      flex-wrap:wrap;\n",
              "      gap: 12px;\n",
              "    }\n",
              "\n",
              "    .colab-df-convert {\n",
              "      background-color: #E8F0FE;\n",
              "      border: none;\n",
              "      border-radius: 50%;\n",
              "      cursor: pointer;\n",
              "      display: none;\n",
              "      fill: #1967D2;\n",
              "      height: 32px;\n",
              "      padding: 0 0 0 0;\n",
              "      width: 32px;\n",
              "    }\n",
              "\n",
              "    .colab-df-convert:hover {\n",
              "      background-color: #E2EBFA;\n",
              "      box-shadow: 0px 1px 2px rgba(60, 64, 67, 0.3), 0px 1px 3px 1px rgba(60, 64, 67, 0.15);\n",
              "      fill: #174EA6;\n",
              "    }\n",
              "\n",
              "    [theme=dark] .colab-df-convert {\n",
              "      background-color: #3B4455;\n",
              "      fill: #D2E3FC;\n",
              "    }\n",
              "\n",
              "    [theme=dark] .colab-df-convert:hover {\n",
              "      background-color: #434B5C;\n",
              "      box-shadow: 0px 1px 3px 1px rgba(0, 0, 0, 0.15);\n",
              "      filter: drop-shadow(0px 1px 2px rgba(0, 0, 0, 0.3));\n",
              "      fill: #FFFFFF;\n",
              "    }\n",
              "  </style>\n",
              "\n",
              "      <script>\n",
              "        const buttonEl =\n",
              "          document.querySelector('#df-75e275fe-7f08-4493-9ede-6d3220a17eb9 button.colab-df-convert');\n",
              "        buttonEl.style.display =\n",
              "          google.colab.kernel.accessAllowed ? 'block' : 'none';\n",
              "\n",
              "        async function convertToInteractive(key) {\n",
              "          const element = document.querySelector('#df-75e275fe-7f08-4493-9ede-6d3220a17eb9');\n",
              "          const dataTable =\n",
              "            await google.colab.kernel.invokeFunction('convertToInteractive',\n",
              "                                                     [key], {});\n",
              "          if (!dataTable) return;\n",
              "\n",
              "          const docLinkHtml = 'Like what you see? Visit the ' +\n",
              "            '<a target=\"_blank\" href=https://colab.research.google.com/notebooks/data_table.ipynb>data table notebook</a>'\n",
              "            + ' to learn more about interactive tables.';\n",
              "          element.innerHTML = '';\n",
              "          dataTable['output_type'] = 'display_data';\n",
              "          await google.colab.output.renderOutput(dataTable, element);\n",
              "          const docLink = document.createElement('div');\n",
              "          docLink.innerHTML = docLinkHtml;\n",
              "          element.appendChild(docLink);\n",
              "        }\n",
              "      </script>\n",
              "    </div>\n",
              "  </div>\n",
              "  "
            ]
          },
          "metadata": {},
          "execution_count": 58
        }
      ]
    },
    {
      "cell_type": "code",
      "metadata": {
        "id": "eaHt_Be23Msm",
        "colab": {
          "base_uri": "https://localhost:8080/",
          "height": 357
        },
        "outputId": "707d89b6-2204-4ad6-bbc4-29a32c035de0"
      },
      "source": [
        "# Preview testing dataset\n",
        "test.head()"
      ],
      "execution_count": null,
      "outputs": [
        {
          "output_type": "execute_result",
          "data": {
            "text/plain": [
              "   User_ID Product_ID Gender    Age  Occupation City_Category  \\\n",
              "0  1000004  P00128942      M  46-50           7             B   \n",
              "1  1000009  P00113442      M  26-35          17             C   \n",
              "2  1000010  P00288442      F  36-45           1             B   \n",
              "3  1000010  P00145342      F  36-45           1             B   \n",
              "4  1000011  P00053842      F  26-35           1             C   \n",
              "\n",
              "  Stay_In_Current_City_Years  Marital_Status  Product_Category_1  \\\n",
              "0                          2               1                   1   \n",
              "1                          0               0                   3   \n",
              "2                         4+               1                   5   \n",
              "3                         4+               1                   4   \n",
              "4                          1               0                   4   \n",
              "\n",
              "   Product_Category_2  Product_Category_3  \n",
              "0                11.0                 NaN  \n",
              "1                 5.0                 NaN  \n",
              "2                14.0                 NaN  \n",
              "3                 9.0                 NaN  \n",
              "4                 5.0                12.0  "
            ],
            "text/html": [
              "\n",
              "  <div id=\"df-bee5e7a8-efac-45b3-a496-13a40ebd186b\">\n",
              "    <div class=\"colab-df-container\">\n",
              "      <div>\n",
              "<style scoped>\n",
              "    .dataframe tbody tr th:only-of-type {\n",
              "        vertical-align: middle;\n",
              "    }\n",
              "\n",
              "    .dataframe tbody tr th {\n",
              "        vertical-align: top;\n",
              "    }\n",
              "\n",
              "    .dataframe thead th {\n",
              "        text-align: right;\n",
              "    }\n",
              "</style>\n",
              "<table border=\"1\" class=\"dataframe\">\n",
              "  <thead>\n",
              "    <tr style=\"text-align: right;\">\n",
              "      <th></th>\n",
              "      <th>User_ID</th>\n",
              "      <th>Product_ID</th>\n",
              "      <th>Gender</th>\n",
              "      <th>Age</th>\n",
              "      <th>Occupation</th>\n",
              "      <th>City_Category</th>\n",
              "      <th>Stay_In_Current_City_Years</th>\n",
              "      <th>Marital_Status</th>\n",
              "      <th>Product_Category_1</th>\n",
              "      <th>Product_Category_2</th>\n",
              "      <th>Product_Category_3</th>\n",
              "    </tr>\n",
              "  </thead>\n",
              "  <tbody>\n",
              "    <tr>\n",
              "      <th>0</th>\n",
              "      <td>1000004</td>\n",
              "      <td>P00128942</td>\n",
              "      <td>M</td>\n",
              "      <td>46-50</td>\n",
              "      <td>7</td>\n",
              "      <td>B</td>\n",
              "      <td>2</td>\n",
              "      <td>1</td>\n",
              "      <td>1</td>\n",
              "      <td>11.0</td>\n",
              "      <td>NaN</td>\n",
              "    </tr>\n",
              "    <tr>\n",
              "      <th>1</th>\n",
              "      <td>1000009</td>\n",
              "      <td>P00113442</td>\n",
              "      <td>M</td>\n",
              "      <td>26-35</td>\n",
              "      <td>17</td>\n",
              "      <td>C</td>\n",
              "      <td>0</td>\n",
              "      <td>0</td>\n",
              "      <td>3</td>\n",
              "      <td>5.0</td>\n",
              "      <td>NaN</td>\n",
              "    </tr>\n",
              "    <tr>\n",
              "      <th>2</th>\n",
              "      <td>1000010</td>\n",
              "      <td>P00288442</td>\n",
              "      <td>F</td>\n",
              "      <td>36-45</td>\n",
              "      <td>1</td>\n",
              "      <td>B</td>\n",
              "      <td>4+</td>\n",
              "      <td>1</td>\n",
              "      <td>5</td>\n",
              "      <td>14.0</td>\n",
              "      <td>NaN</td>\n",
              "    </tr>\n",
              "    <tr>\n",
              "      <th>3</th>\n",
              "      <td>1000010</td>\n",
              "      <td>P00145342</td>\n",
              "      <td>F</td>\n",
              "      <td>36-45</td>\n",
              "      <td>1</td>\n",
              "      <td>B</td>\n",
              "      <td>4+</td>\n",
              "      <td>1</td>\n",
              "      <td>4</td>\n",
              "      <td>9.0</td>\n",
              "      <td>NaN</td>\n",
              "    </tr>\n",
              "    <tr>\n",
              "      <th>4</th>\n",
              "      <td>1000011</td>\n",
              "      <td>P00053842</td>\n",
              "      <td>F</td>\n",
              "      <td>26-35</td>\n",
              "      <td>1</td>\n",
              "      <td>C</td>\n",
              "      <td>1</td>\n",
              "      <td>0</td>\n",
              "      <td>4</td>\n",
              "      <td>5.0</td>\n",
              "      <td>12.0</td>\n",
              "    </tr>\n",
              "  </tbody>\n",
              "</table>\n",
              "</div>\n",
              "      <button class=\"colab-df-convert\" onclick=\"convertToInteractive('df-bee5e7a8-efac-45b3-a496-13a40ebd186b')\"\n",
              "              title=\"Convert this dataframe to an interactive table.\"\n",
              "              style=\"display:none;\">\n",
              "        \n",
              "  <svg xmlns=\"http://www.w3.org/2000/svg\" height=\"24px\"viewBox=\"0 0 24 24\"\n",
              "       width=\"24px\">\n",
              "    <path d=\"M0 0h24v24H0V0z\" fill=\"none\"/>\n",
              "    <path d=\"M18.56 5.44l.94 2.06.94-2.06 2.06-.94-2.06-.94-.94-2.06-.94 2.06-2.06.94zm-11 1L8.5 8.5l.94-2.06 2.06-.94-2.06-.94L8.5 2.5l-.94 2.06-2.06.94zm10 10l.94 2.06.94-2.06 2.06-.94-2.06-.94-.94-2.06-.94 2.06-2.06.94z\"/><path d=\"M17.41 7.96l-1.37-1.37c-.4-.4-.92-.59-1.43-.59-.52 0-1.04.2-1.43.59L10.3 9.45l-7.72 7.72c-.78.78-.78 2.05 0 2.83L4 21.41c.39.39.9.59 1.41.59.51 0 1.02-.2 1.41-.59l7.78-7.78 2.81-2.81c.8-.78.8-2.07 0-2.86zM5.41 20L4 18.59l7.72-7.72 1.47 1.35L5.41 20z\"/>\n",
              "  </svg>\n",
              "      </button>\n",
              "      \n",
              "  <style>\n",
              "    .colab-df-container {\n",
              "      display:flex;\n",
              "      flex-wrap:wrap;\n",
              "      gap: 12px;\n",
              "    }\n",
              "\n",
              "    .colab-df-convert {\n",
              "      background-color: #E8F0FE;\n",
              "      border: none;\n",
              "      border-radius: 50%;\n",
              "      cursor: pointer;\n",
              "      display: none;\n",
              "      fill: #1967D2;\n",
              "      height: 32px;\n",
              "      padding: 0 0 0 0;\n",
              "      width: 32px;\n",
              "    }\n",
              "\n",
              "    .colab-df-convert:hover {\n",
              "      background-color: #E2EBFA;\n",
              "      box-shadow: 0px 1px 2px rgba(60, 64, 67, 0.3), 0px 1px 3px 1px rgba(60, 64, 67, 0.15);\n",
              "      fill: #174EA6;\n",
              "    }\n",
              "\n",
              "    [theme=dark] .colab-df-convert {\n",
              "      background-color: #3B4455;\n",
              "      fill: #D2E3FC;\n",
              "    }\n",
              "\n",
              "    [theme=dark] .colab-df-convert:hover {\n",
              "      background-color: #434B5C;\n",
              "      box-shadow: 0px 1px 3px 1px rgba(0, 0, 0, 0.15);\n",
              "      filter: drop-shadow(0px 1px 2px rgba(0, 0, 0, 0.3));\n",
              "      fill: #FFFFFF;\n",
              "    }\n",
              "  </style>\n",
              "\n",
              "      <script>\n",
              "        const buttonEl =\n",
              "          document.querySelector('#df-bee5e7a8-efac-45b3-a496-13a40ebd186b button.colab-df-convert');\n",
              "        buttonEl.style.display =\n",
              "          google.colab.kernel.accessAllowed ? 'block' : 'none';\n",
              "\n",
              "        async function convertToInteractive(key) {\n",
              "          const element = document.querySelector('#df-bee5e7a8-efac-45b3-a496-13a40ebd186b');\n",
              "          const dataTable =\n",
              "            await google.colab.kernel.invokeFunction('convertToInteractive',\n",
              "                                                     [key], {});\n",
              "          if (!dataTable) return;\n",
              "\n",
              "          const docLinkHtml = 'Like what you see? Visit the ' +\n",
              "            '<a target=\"_blank\" href=https://colab.research.google.com/notebooks/data_table.ipynb>data table notebook</a>'\n",
              "            + ' to learn more about interactive tables.';\n",
              "          element.innerHTML = '';\n",
              "          dataTable['output_type'] = 'display_data';\n",
              "          await google.colab.output.renderOutput(dataTable, element);\n",
              "          const docLink = document.createElement('div');\n",
              "          docLink.innerHTML = docLinkHtml;\n",
              "          element.appendChild(docLink);\n",
              "        }\n",
              "      </script>\n",
              "    </div>\n",
              "  </div>\n",
              "  "
            ]
          },
          "metadata": {},
          "execution_count": 59
        }
      ]
    },
    {
      "cell_type": "code",
      "metadata": {
        "id": "I6h5qa873Msp",
        "colab": {
          "base_uri": "https://localhost:8080/"
        },
        "outputId": "ee12c4bd-f7df-4ac9-bc87-af9f856c8c4e"
      },
      "source": [
        "# Training dataset dimensions - (rows, columns)\n",
        "print('Training data: \\nRows: {} Columns: {}'.format(train.shape[0], train.shape[1]))"
      ],
      "execution_count": null,
      "outputs": [
        {
          "output_type": "stream",
          "name": "stdout",
          "text": [
            "Training data: \n",
            "Rows: 550068 Columns: 12\n"
          ]
        }
      ]
    },
    {
      "cell_type": "code",
      "metadata": {
        "id": "YpAhmdQC3Msu",
        "colab": {
          "base_uri": "https://localhost:8080/"
        },
        "outputId": "2d6267a2-a70f-4dbf-a78a-39ad8fed7f82"
      },
      "source": [
        "# Testing dataset dimensions - (rows, columns)\n",
        "print('Testing data: \\nRows: {} Columns: {}'.format(test.shape[0], test.shape[1]))"
      ],
      "execution_count": null,
      "outputs": [
        {
          "output_type": "stream",
          "name": "stdout",
          "text": [
            "Testing data: \n",
            "Rows: 233599 Columns: 11\n"
          ]
        }
      ]
    },
    {
      "cell_type": "code",
      "metadata": {
        "id": "fV8IYYks3Msy",
        "colab": {
          "base_uri": "https://localhost:8080/"
        },
        "outputId": "23714857-e686-40c4-e8a0-0e8504209885"
      },
      "source": [
        "# Features data-type\n",
        "train.info()"
      ],
      "execution_count": null,
      "outputs": [
        {
          "output_type": "stream",
          "name": "stdout",
          "text": [
            "<class 'pandas.core.frame.DataFrame'>\n",
            "RangeIndex: 550068 entries, 0 to 550067\n",
            "Data columns (total 12 columns):\n",
            " #   Column                      Non-Null Count   Dtype  \n",
            "---  ------                      --------------   -----  \n",
            " 0   User_ID                     550068 non-null  int64  \n",
            " 1   Product_ID                  550068 non-null  object \n",
            " 2   Gender                      550068 non-null  object \n",
            " 3   Age                         550068 non-null  object \n",
            " 4   Occupation                  550068 non-null  int64  \n",
            " 5   City_Category               550068 non-null  object \n",
            " 6   Stay_In_Current_City_Years  550068 non-null  object \n",
            " 7   Marital_Status              550068 non-null  int64  \n",
            " 8   Product_Category_1          550068 non-null  int64  \n",
            " 9   Product_Category_2          376430 non-null  float64\n",
            " 10  Product_Category_3          166821 non-null  float64\n",
            " 11  Purchase                    550068 non-null  int64  \n",
            "dtypes: float64(2), int64(5), object(5)\n",
            "memory usage: 50.4+ MB\n"
          ]
        }
      ]
    },
    {
      "cell_type": "code",
      "metadata": {
        "id": "qLTmLpqV3Ms1",
        "colab": {
          "base_uri": "https://localhost:8080/",
          "height": 269
        },
        "outputId": "d42ddd62-a8af-4252-bf45-fecc75d070c7"
      },
      "source": [
        "# Statistical summary\n",
        "train.describe().T"
      ],
      "execution_count": null,
      "outputs": [
        {
          "output_type": "execute_result",
          "data": {
            "text/plain": [
              "                       count          mean          std        min        25%  \\\n",
              "User_ID             550068.0  1.003029e+06  1727.591586  1000001.0  1001516.0   \n",
              "Occupation          550068.0  8.076707e+00     6.522660        0.0        2.0   \n",
              "Marital_Status      550068.0  4.096530e-01     0.491770        0.0        0.0   \n",
              "Product_Category_1  550068.0  5.404270e+00     3.936211        1.0        1.0   \n",
              "Product_Category_2  376430.0  9.842329e+00     5.086590        2.0        5.0   \n",
              "Product_Category_3  166821.0  1.266824e+01     4.125338        3.0        9.0   \n",
              "Purchase            550068.0  9.263969e+03  5023.065394       12.0     5823.0   \n",
              "\n",
              "                          50%        75%        max  \n",
              "User_ID             1003077.0  1004478.0  1006040.0  \n",
              "Occupation                7.0       14.0       20.0  \n",
              "Marital_Status            0.0        1.0        1.0  \n",
              "Product_Category_1        5.0        8.0       20.0  \n",
              "Product_Category_2        9.0       15.0       18.0  \n",
              "Product_Category_3       14.0       16.0       18.0  \n",
              "Purchase               8047.0    12054.0    23961.0  "
            ],
            "text/html": [
              "\n",
              "  <div id=\"df-6100a4cc-0b63-461d-9618-80aea6481e2d\">\n",
              "    <div class=\"colab-df-container\">\n",
              "      <div>\n",
              "<style scoped>\n",
              "    .dataframe tbody tr th:only-of-type {\n",
              "        vertical-align: middle;\n",
              "    }\n",
              "\n",
              "    .dataframe tbody tr th {\n",
              "        vertical-align: top;\n",
              "    }\n",
              "\n",
              "    .dataframe thead th {\n",
              "        text-align: right;\n",
              "    }\n",
              "</style>\n",
              "<table border=\"1\" class=\"dataframe\">\n",
              "  <thead>\n",
              "    <tr style=\"text-align: right;\">\n",
              "      <th></th>\n",
              "      <th>count</th>\n",
              "      <th>mean</th>\n",
              "      <th>std</th>\n",
              "      <th>min</th>\n",
              "      <th>25%</th>\n",
              "      <th>50%</th>\n",
              "      <th>75%</th>\n",
              "      <th>max</th>\n",
              "    </tr>\n",
              "  </thead>\n",
              "  <tbody>\n",
              "    <tr>\n",
              "      <th>User_ID</th>\n",
              "      <td>550068.0</td>\n",
              "      <td>1.003029e+06</td>\n",
              "      <td>1727.591586</td>\n",
              "      <td>1000001.0</td>\n",
              "      <td>1001516.0</td>\n",
              "      <td>1003077.0</td>\n",
              "      <td>1004478.0</td>\n",
              "      <td>1006040.0</td>\n",
              "    </tr>\n",
              "    <tr>\n",
              "      <th>Occupation</th>\n",
              "      <td>550068.0</td>\n",
              "      <td>8.076707e+00</td>\n",
              "      <td>6.522660</td>\n",
              "      <td>0.0</td>\n",
              "      <td>2.0</td>\n",
              "      <td>7.0</td>\n",
              "      <td>14.0</td>\n",
              "      <td>20.0</td>\n",
              "    </tr>\n",
              "    <tr>\n",
              "      <th>Marital_Status</th>\n",
              "      <td>550068.0</td>\n",
              "      <td>4.096530e-01</td>\n",
              "      <td>0.491770</td>\n",
              "      <td>0.0</td>\n",
              "      <td>0.0</td>\n",
              "      <td>0.0</td>\n",
              "      <td>1.0</td>\n",
              "      <td>1.0</td>\n",
              "    </tr>\n",
              "    <tr>\n",
              "      <th>Product_Category_1</th>\n",
              "      <td>550068.0</td>\n",
              "      <td>5.404270e+00</td>\n",
              "      <td>3.936211</td>\n",
              "      <td>1.0</td>\n",
              "      <td>1.0</td>\n",
              "      <td>5.0</td>\n",
              "      <td>8.0</td>\n",
              "      <td>20.0</td>\n",
              "    </tr>\n",
              "    <tr>\n",
              "      <th>Product_Category_2</th>\n",
              "      <td>376430.0</td>\n",
              "      <td>9.842329e+00</td>\n",
              "      <td>5.086590</td>\n",
              "      <td>2.0</td>\n",
              "      <td>5.0</td>\n",
              "      <td>9.0</td>\n",
              "      <td>15.0</td>\n",
              "      <td>18.0</td>\n",
              "    </tr>\n",
              "    <tr>\n",
              "      <th>Product_Category_3</th>\n",
              "      <td>166821.0</td>\n",
              "      <td>1.266824e+01</td>\n",
              "      <td>4.125338</td>\n",
              "      <td>3.0</td>\n",
              "      <td>9.0</td>\n",
              "      <td>14.0</td>\n",
              "      <td>16.0</td>\n",
              "      <td>18.0</td>\n",
              "    </tr>\n",
              "    <tr>\n",
              "      <th>Purchase</th>\n",
              "      <td>550068.0</td>\n",
              "      <td>9.263969e+03</td>\n",
              "      <td>5023.065394</td>\n",
              "      <td>12.0</td>\n",
              "      <td>5823.0</td>\n",
              "      <td>8047.0</td>\n",
              "      <td>12054.0</td>\n",
              "      <td>23961.0</td>\n",
              "    </tr>\n",
              "  </tbody>\n",
              "</table>\n",
              "</div>\n",
              "      <button class=\"colab-df-convert\" onclick=\"convertToInteractive('df-6100a4cc-0b63-461d-9618-80aea6481e2d')\"\n",
              "              title=\"Convert this dataframe to an interactive table.\"\n",
              "              style=\"display:none;\">\n",
              "        \n",
              "  <svg xmlns=\"http://www.w3.org/2000/svg\" height=\"24px\"viewBox=\"0 0 24 24\"\n",
              "       width=\"24px\">\n",
              "    <path d=\"M0 0h24v24H0V0z\" fill=\"none\"/>\n",
              "    <path d=\"M18.56 5.44l.94 2.06.94-2.06 2.06-.94-2.06-.94-.94-2.06-.94 2.06-2.06.94zm-11 1L8.5 8.5l.94-2.06 2.06-.94-2.06-.94L8.5 2.5l-.94 2.06-2.06.94zm10 10l.94 2.06.94-2.06 2.06-.94-2.06-.94-.94-2.06-.94 2.06-2.06.94z\"/><path d=\"M17.41 7.96l-1.37-1.37c-.4-.4-.92-.59-1.43-.59-.52 0-1.04.2-1.43.59L10.3 9.45l-7.72 7.72c-.78.78-.78 2.05 0 2.83L4 21.41c.39.39.9.59 1.41.59.51 0 1.02-.2 1.41-.59l7.78-7.78 2.81-2.81c.8-.78.8-2.07 0-2.86zM5.41 20L4 18.59l7.72-7.72 1.47 1.35L5.41 20z\"/>\n",
              "  </svg>\n",
              "      </button>\n",
              "      \n",
              "  <style>\n",
              "    .colab-df-container {\n",
              "      display:flex;\n",
              "      flex-wrap:wrap;\n",
              "      gap: 12px;\n",
              "    }\n",
              "\n",
              "    .colab-df-convert {\n",
              "      background-color: #E8F0FE;\n",
              "      border: none;\n",
              "      border-radius: 50%;\n",
              "      cursor: pointer;\n",
              "      display: none;\n",
              "      fill: #1967D2;\n",
              "      height: 32px;\n",
              "      padding: 0 0 0 0;\n",
              "      width: 32px;\n",
              "    }\n",
              "\n",
              "    .colab-df-convert:hover {\n",
              "      background-color: #E2EBFA;\n",
              "      box-shadow: 0px 1px 2px rgba(60, 64, 67, 0.3), 0px 1px 3px 1px rgba(60, 64, 67, 0.15);\n",
              "      fill: #174EA6;\n",
              "    }\n",
              "\n",
              "    [theme=dark] .colab-df-convert {\n",
              "      background-color: #3B4455;\n",
              "      fill: #D2E3FC;\n",
              "    }\n",
              "\n",
              "    [theme=dark] .colab-df-convert:hover {\n",
              "      background-color: #434B5C;\n",
              "      box-shadow: 0px 1px 3px 1px rgba(0, 0, 0, 0.15);\n",
              "      filter: drop-shadow(0px 1px 2px rgba(0, 0, 0, 0.3));\n",
              "      fill: #FFFFFF;\n",
              "    }\n",
              "  </style>\n",
              "\n",
              "      <script>\n",
              "        const buttonEl =\n",
              "          document.querySelector('#df-6100a4cc-0b63-461d-9618-80aea6481e2d button.colab-df-convert');\n",
              "        buttonEl.style.display =\n",
              "          google.colab.kernel.accessAllowed ? 'block' : 'none';\n",
              "\n",
              "        async function convertToInteractive(key) {\n",
              "          const element = document.querySelector('#df-6100a4cc-0b63-461d-9618-80aea6481e2d');\n",
              "          const dataTable =\n",
              "            await google.colab.kernel.invokeFunction('convertToInteractive',\n",
              "                                                     [key], {});\n",
              "          if (!dataTable) return;\n",
              "\n",
              "          const docLinkHtml = 'Like what you see? Visit the ' +\n",
              "            '<a target=\"_blank\" href=https://colab.research.google.com/notebooks/data_table.ipynb>data table notebook</a>'\n",
              "            + ' to learn more about interactive tables.';\n",
              "          element.innerHTML = '';\n",
              "          dataTable['output_type'] = 'display_data';\n",
              "          await google.colab.output.renderOutput(dataTable, element);\n",
              "          const docLink = document.createElement('div');\n",
              "          docLink.innerHTML = docLinkHtml;\n",
              "          element.appendChild(docLink);\n",
              "        }\n",
              "      </script>\n",
              "    </div>\n",
              "  </div>\n",
              "  "
            ]
          },
          "metadata": {},
          "execution_count": 63
        }
      ]
    },
    {
      "cell_type": "code",
      "metadata": {
        "id": "FbuXwyYw3Ms4",
        "colab": {
          "base_uri": "https://localhost:8080/"
        },
        "outputId": "004b48d6-61da-41fa-c8a8-32a9c2d67652"
      },
      "source": [
        "# Checking for Null values\n",
        "round((train.isnull().sum() / train.shape[0]) * 100, 2).astype(str) + ' %'"
      ],
      "execution_count": null,
      "outputs": [
        {
          "output_type": "execute_result",
          "data": {
            "text/plain": [
              "User_ID                         0.0 %\n",
              "Product_ID                      0.0 %\n",
              "Gender                          0.0 %\n",
              "Age                             0.0 %\n",
              "Occupation                      0.0 %\n",
              "City_Category                   0.0 %\n",
              "Stay_In_Current_City_Years      0.0 %\n",
              "Marital_Status                  0.0 %\n",
              "Product_Category_1              0.0 %\n",
              "Product_Category_2            31.57 %\n",
              "Product_Category_3            69.67 %\n",
              "Purchase                        0.0 %\n",
              "dtype: object"
            ]
          },
          "metadata": {},
          "execution_count": 64
        }
      ]
    },
    {
      "cell_type": "code",
      "metadata": {
        "id": "3v2XhPWi3Ms8",
        "colab": {
          "base_uri": "https://localhost:8080/"
        },
        "outputId": "7e326935-ac6c-47ba-bb4a-eea453876955"
      },
      "source": [
        "# Checking the counts of unique values\n",
        "round((train['Age'].value_counts(normalize = True).mul(100)), 2).astype(str) + ' %'"
      ],
      "execution_count": null,
      "outputs": [
        {
          "output_type": "execute_result",
          "data": {
            "text/plain": [
              "26-35    39.92 %\n",
              "36-45     20.0 %\n",
              "18-25    18.12 %\n",
              "46-50     8.31 %\n",
              "51-55      7.0 %\n",
              "55+       3.91 %\n",
              "0-17      2.75 %\n",
              "Name: Age, dtype: object"
            ]
          },
          "metadata": {},
          "execution_count": 65
        }
      ]
    },
    {
      "cell_type": "code",
      "metadata": {
        "id": "aHo1BN2O3MtA",
        "colab": {
          "base_uri": "https://localhost:8080/"
        },
        "outputId": "9c6f0e84-9331-4f5e-b1bf-765812ec29b5"
      },
      "source": [
        "# Checking the counts of unique values\n",
        "round((train['Stay_In_Current_City_Years'].value_counts(normalize = True).mul(100)), 2).astype(str) + ' %'"
      ],
      "execution_count": null,
      "outputs": [
        {
          "output_type": "execute_result",
          "data": {
            "text/plain": [
              "1     35.24 %\n",
              "2     18.51 %\n",
              "3     17.32 %\n",
              "4+     15.4 %\n",
              "0     13.53 %\n",
              "Name: Stay_In_Current_City_Years, dtype: object"
            ]
          },
          "metadata": {},
          "execution_count": 66
        }
      ]
    },
    {
      "cell_type": "markdown",
      "metadata": {
        "id": "JeT73w2v3MtD"
      },
      "source": [
        "<div class=\"alert alert-block alert-info\">\n",
        "\n",
        "<h3 style=\"font-family:verdana;\"> Observations:</h3>\n",
        "\n",
        "<ul>\n",
        "    \n",
        "<li><p style=\"font-family:verdana;\">\n",
        "The feature 'Product_Category_2' contains 31.57% null values which can be imputed whereas 'Product_Category_3' contains 69.67% null values so we can drop this feature.\n",
        "</p></li>    \n",
        "\n",
        "<li><p style=\"font-family:verdana;\">\n",
        "The features 'Age' and 'Stay_In_Current_City_Years' contain some values which have '+' in them which need to be replaced.\n",
        "</p></li>    \n",
        "\n",
        "</ul>\n",
        "\n",
        "</div>"
      ]
    },
    {
      "cell_type": "markdown",
      "metadata": {
        "id": "LfvLSmWq3MtE"
      },
      "source": [
        "## Step 2: Exploratory Data Analysis"
      ]
    },
    {
      "cell_type": "markdown",
      "metadata": {
        "id": "h2Vy-h7XUipB"
      },
      "source": [
        "### 2.1 Univariate Analysis"
      ]
    },
    {
      "cell_type": "code",
      "metadata": {
        "id": "Lnt9kB_A3MtE",
        "colab": {
          "base_uri": "https://localhost:8080/",
          "height": 445
        },
        "outputId": "6323f717-7711-4c8c-8cde-f3bcfd244fc9"
      },
      "source": [
        "# Creating a distplot for dependent feature 'Purchase'\n",
        "plt.style.use('ggplot')\n",
        "plt.figure(figsize = (20, 7))\n",
        "sns.distplot(train['Purchase'], bins = 20)\n",
        "plt.title('Distribution of Purchase amount', fontdict = {'fontname' : 'Monospace', 'fontsize' : 30, 'fontweight' : 'bold'})\n",
        "plt.xlabel('Purchase amount', fontdict = {'fontname' : 'Monospace', 'fontsize' : 20})\n",
        "plt.ylabel('Number of people', fontdict = {'fontname' : 'Monospace', 'fontsize' : 20})\n",
        "plt.tick_params(labelsize = 15)\n",
        "plt.show()"
      ],
      "execution_count": null,
      "outputs": [
        {
          "output_type": "display_data",
          "data": {
            "text/plain": [
              "<Figure size 1440x504 with 1 Axes>"
            ],
            "image/png": "[encoded data removed]"
          },
          "metadata": {}
        }
      ]
    },
    {
      "cell_type": "code",
      "metadata": {
        "id": "3uPuQIivUipG",
        "colab": {
          "base_uri": "https://localhost:8080/",
          "height": 360
        },
        "outputId": "b5f70f48-c55c-49f7-ae8e-db053d63f0dc"
      },
      "source": [
        "# Creating a barplot for 'Gender'\n",
        "gen = train['Gender'].value_counts()\n",
        "\n",
        "plt.figure(figsize = (7, 5))\n",
        "plt.style.use('seaborn-whitegrid')\n",
        "sns.barplot(gen.index, gen.values, palette = 'bright')\n",
        "plt.title('Distribution of Gender', fontdict = {'fontname' : 'Monospace', 'fontsize' : 20, 'fontweight' : 'bold'})\n",
        "plt.xlabel('Gender', fontdict = {'fontname' : 'Monospace', 'fontsize' : 15})\n",
        "plt.ylabel('Number of people', fontdict = {'fontname' : 'Monospace', 'fontsize' : 15})\n",
        "plt.tick_params(labelsize = 10)\n",
        "plt.show()"
      ],
      "execution_count": null,
      "outputs": [
        {
          "output_type": "display_data",
          "data": {
            "text/plain": [
              "<Figure size 504x360 with 1 Axes>"
            ],
            "image/png": "[encoded data removed]"
          },
          "metadata": {}
        }
      ]
    },
    {
      "cell_type": "code",
      "metadata": {
        "id": "9E6GfcS-UipJ",
        "colab": {
          "base_uri": "https://localhost:8080/",
          "height": 442
        },
        "outputId": "f16496ec-5db8-4959-bd26-19ad75ed3487"
      },
      "source": [
        "# Creating a pie chart for 'City Category'\n",
        "city = train['City_Category'].value_counts()\n",
        "\n",
        "plt.style.use('seaborn')\n",
        "plt.figure(figsize = (10, 7))\n",
        "plt.pie(city.values, labels = city.index, startangle = 30, explode = (0 , 0.20, 0), shadow = True, autopct = '%1.1f%%')\n",
        "plt.title('City category distribution', fontdict = {'fontname' : 'Monospace', 'fontsize' : 30, 'fontweight' : 'bold'})\n",
        "plt.legend()\n",
        "plt.legend(prop = {'size' : 20})\n",
        "plt.axis('equal')\n",
        "plt.show()"
      ],
      "execution_count": null,
      "outputs": [
        {
          "output_type": "display_data",
          "data": {
            "text/plain": [
              "<Figure size 720x504 with 1 Axes>"
            ],
            "image/png": "[encoded data removed]"
          },
          "metadata": {}
        }
      ]
    },
    {
      "cell_type": "code",
      "metadata": {
        "id": "tfTXElsIUipO",
        "colab": {
          "base_uri": "https://localhost:8080/",
          "height": 597
        },
        "outputId": "f75ff8db-d316-4391-c640-24a4d3f257bb"
      },
      "source": [
        "# Creating a donut chart for 'Age'\n",
        "age = train['Age'].value_counts()\n",
        "\n",
        "plt.style.use('bmh')\n",
        "plt.figure(figsize = (20, 10))\n",
        "plt.pie(age.values, labels = age.index, startangle = 50, autopct = '%1.1f%%')\n",
        "centre_circle = plt.Circle((0, 0), 0.7, fc = 'white')\n",
        "fig = plt.gcf()\n",
        "fig.gca().add_artist(centre_circle)\n",
        "plt.title('Age distribution', fontdict = {'fontname' : 'Monospace', 'fontsize' : 30, 'fontweight' : 'bold'})\n",
        "plt.axis('equal')\n",
        "plt.legend(prop = {'size' : 20})\n",
        "plt.show()"
      ],
      "execution_count": null,
      "outputs": [
        {
          "output_type": "display_data",
          "data": {
            "text/plain": [
              "<Figure size 1440x720 with 1 Axes>"
            ],
            "image/png": "[encoded data removed]"
          },
          "metadata": {}
        }
      ]
    },
    {
      "cell_type": "code",
      "metadata": {
        "id": "f_sdqhj1UipT",
        "scrolled": false,
        "colab": {
          "base_uri": "https://localhost:8080/",
          "height": 454
        },
        "outputId": "59f6b0dd-0166-48d0-b5f7-e681fb3c819c"
      },
      "source": [
        "# Creating a barplot for 'Occupation'\n",
        "occupation = train['Occupation'].value_counts()\n",
        "\n",
        "plt.figure(figsize = (20, 7))\n",
        "plt.style.use('seaborn-whitegrid')\n",
        "sns.barplot(occupation.index, occupation.values, palette = 'Paired')\n",
        "plt.title('Occupation wise Distribution', fontdict = {'fontname' : 'Monospace', 'fontsize' : 30, 'fontweight' : 'bold'})\n",
        "plt.xlabel('Occupation code', fontdict = {'fontname' : 'Monospace', 'fontsize' : 25})\n",
        "plt.ylabel('Number of people', fontdict = {'fontname' : 'Monospace', 'fontsize' : 25})\n",
        "plt.tick_params(labelsize = 20)\n",
        "plt.show()"
      ],
      "execution_count": null,
      "outputs": [
        {
          "output_type": "display_data",
          "data": {
            "text/plain": [
              "<Figure size 1440x504 with 1 Axes>"
            ],
            "image/png": "[encoded data removed]"
          },
          "metadata": {}
        }
      ]
    },
    {
      "cell_type": "code",
      "metadata": {
        "id": "BB3C5exkUipY",
        "colab": {
          "base_uri": "https://localhost:8080/",
          "height": 360
        },
        "outputId": "caa2eeae-2651-4055-8f81-9ddeeff45511"
      },
      "source": [
        "# Creating a countplot for 'Marital Status'\n",
        "plt.style.use('seaborn')\n",
        "plt.figure(figsize = (7, 5))\n",
        "sns.countplot(train['Marital_Status'])\n",
        "plt.title('Marital Status Distribution', fontdict = {'fontname' : 'Monospace', 'fontsize' : 20, 'fontweight' : 'bold'})\n",
        "plt.xlabel('Marital Status', fontdict = {'fontname' : 'Monospace', 'fontsize' : 15})\n",
        "plt.ylabel('Number of people', fontdict = {'fontname' : 'Monospace', 'fontsize' : 15})\n",
        "plt.tick_params(labelsize = 10)\n",
        "plt.show()"
      ],
      "execution_count": null,
      "outputs": [
        {
          "output_type": "display_data",
          "data": {
            "text/plain": [
              "<Figure size 504x360 with 1 Axes>"
            ],
            "image/png": "[encoded data removed]"
          },
          "metadata": {}
        }
      ]
    },
    {
      "cell_type": "markdown",
      "metadata": {
        "id": "c1c90gvFUipn"
      },
      "source": [
        "### 2.2 Bivariate Analysis"
      ]
    },
    {
      "cell_type": "code",
      "metadata": {
        "id": "GpZtnQWfUipn",
        "scrolled": false,
        "colab": {
          "base_uri": "https://localhost:8080/",
          "height": 441
        },
        "outputId": "22581e90-1284-4a1d-94e1-4a6994be3e29"
      },
      "source": [
        "# Creating a barplot of 'Occupation vs Purchase'\n",
        "plt.figure(figsize = (20, 7))\n",
        "plt.style.use('seaborn')\n",
        "sns.barplot(train['Occupation'], train['Purchase'], palette = 'Paired')\n",
        "plt.title('Purchase amount across Occupation', fontdict = {'fontname' : 'Monospace', 'fontsize' : 20, 'fontweight' : 'bold'})\n",
        "plt.xlabel('Occupation code', fontdict = {'fontname' : 'Monospace', 'fontsize' : 15})\n",
        "plt.ylabel('Purchase amount', fontdict = {'fontname' : 'Monospace', 'fontsize' : 15})\n",
        "plt.tick_params(labelsize = 15)\n",
        "plt.show()"
      ],
      "execution_count": null,
      "outputs": [
        {
          "output_type": "display_data",
          "data": {
            "text/plain": [
              "<Figure size 1440x504 with 1 Axes>"
            ],
            "image/png": "[encoded data removed]"
          },
          "metadata": {}
        }
      ]
    },
    {
      "cell_type": "code",
      "metadata": {
        "id": "9PZNKrbQUipp",
        "colab": {
          "base_uri": "https://localhost:8080/",
          "height": 387
        },
        "outputId": "0fe522cd-bc31-4273-ffdd-1ee55e2818ee"
      },
      "source": [
        "# Creating a boxplot of 'Age vs Purchase'\n",
        "plt.style.use('bmh')\n",
        "sns.boxplot(train['Age'], train['Purchase'], palette = 'colorblind')\n",
        "plt.title('Purchase amount across Age', fontdict = {'fontname' : 'Monospace', 'fontsize' : 20, 'fontweight' : 'bold'})\n",
        "plt.xlabel('Age', fontdict = {'fontname' : 'Monospace', 'fontsize' : 15})\n",
        "plt.ylabel('Purchase amount', fontdict = {'fontname' : 'Monospace', 'fontsize' : 15})\n",
        "plt.tick_params(labelsize = 10)\n",
        "plt.grid()\n",
        "plt.show()"
      ],
      "execution_count": null,
      "outputs": [
        {
          "output_type": "display_data",
          "data": {
            "text/plain": [
              "<Figure size 576x396 with 1 Axes>"
            ],
            "image/png": "[encoded data removed]"
          },
          "metadata": {}
        }
      ]
    },
    {
      "cell_type": "code",
      "metadata": {
        "id": "NCDOeTkXUipr",
        "colab": {
          "base_uri": "https://localhost:8080/",
          "height": 470
        },
        "outputId": "f143db0c-0555-4b64-be53-1bfafa31eb92"
      },
      "source": [
        "# Creating a barplot of 'Gender vs Purchase'\n",
        "plt.style.use('default')\n",
        "sns.barplot(train['Gender'], train['Purchase'])\n",
        "plt.title('Purchase amount across Gender', fontdict = {'fontname' : 'Monospace', 'fontsize' : 15, 'fontweight' : 'bold'})\n",
        "plt.xlabel('Gender', fontdict = {'fontname' : 'Monospace', 'fontsize' : 10})\n",
        "plt.ylabel('Purchase amount', fontdict = {'fontname' : 'Monospace', 'fontsize' : 10})\n",
        "plt.tick_params(labelsize = 7)\n",
        "\n",
        "plt.show()"
      ],
      "execution_count": null,
      "outputs": [
        {
          "output_type": "display_data",
          "data": {
            "text/plain": [
              "<Figure size 640x480 with 1 Axes>"
            ],
            "image/png": "[encoded data removed]"
          },
          "metadata": {}
        }
      ]
    },
    {
      "cell_type": "code",
      "metadata": {
        "id": "22CvQI_RUipt",
        "colab": {
          "base_uri": "https://localhost:8080/",
          "height": 467
        },
        "outputId": "7f8643f8-3377-49df-f526-12c1dac971ba"
      },
      "source": [
        "# Creating a barplot of 'City_Category vs Purchase'\n",
        "plt.style.use('bmh')\n",
        "sns.barplot(train['City_Category'], train['Purchase'])\n",
        "plt.title('Purchase amount across City Category', fontdict = {'fontname' : 'Monospace', 'fontsize' : 15, 'fontweight' : 'bold'})\n",
        "plt.xlabel('City Category', fontdict = {'fontname' : 'Monospace', 'fontsize' : 10})\n",
        "plt.ylabel('Purchase amount', fontdict = {'fontname' : 'Monospace', 'fontsize' : 10})\n",
        "plt.tick_params(labelsize = 7)\n",
        "plt.show()"
      ],
      "execution_count": null,
      "outputs": [
        {
          "output_type": "display_data",
          "data": {
            "text/plain": [
              "<Figure size 640x480 with 1 Axes>"
            ],
            "image/png": "[encoded data removed]"
          },
          "metadata": {}
        }
      ]
    },
    {
      "cell_type": "code",
      "metadata": {
        "id": "ZI8CzG5mUipw",
        "colab": {
          "base_uri": "https://localhost:8080/",
          "height": 446
        },
        "outputId": "f66aa89e-e547-4b68-9337-5e30090f7c3b"
      },
      "source": [
        "# Creating a barplot of 'Product_Category_1 vs Purchase'\n",
        "plt.style.use('default')\n",
        "plt.figure(figsize = (20, 7))\n",
        "sns.barplot(train['Product_Category_1'], train['Purchase'], palette = 'colorblind')\n",
        "plt.title('Purchase amount across Product Category', fontdict = {'fontname' : 'Monospace', 'fontsize' : 20, 'fontweight' : 'bold'})\n",
        "plt.xlabel('Product Category', fontdict = {'fontname' : 'Monospace', 'fontsize' : 15})\n",
        "plt.ylabel('Purchase amount', fontdict = {'fontname' : 'Monospace', 'fontsize' : 15})\n",
        "plt.tick_params(labelsize = 20)\n",
        "plt.grid()\n",
        "plt.show()"
      ],
      "execution_count": null,
      "outputs": [
        {
          "output_type": "display_data",
          "data": {
            "text/plain": [
              "<Figure size 2000x700 with 1 Axes>"
            ],
            "image/png": "[encoded data removed]"
          },
          "metadata": {}
        }
      ]
    },
    {
      "cell_type": "code",
      "metadata": {
        "id": "pDk4IqmVUipy",
        "colab": {
          "base_uri": "https://localhost:8080/",
          "height": 470
        },
        "outputId": "024ba5b9-fdce-40d0-8a76-4ab0cfc6dd18"
      },
      "source": [
        "# Creating a barplot of 'Marital Status vs Purchase'\n",
        "plt.style.use('ggplot')\n",
        "sns.barplot(train['Marital_Status'], train['Purchase'])\n",
        "plt.title('Purchase amount across Marital Status', fontdict = {'fontname' : 'Monospace', 'fontsize' : 15, 'fontweight' : 'bold'})\n",
        "plt.xlabel('Marital Status', fontdict = {'fontname' : 'Monospace', 'fontsize' : 10})\n",
        "plt.ylabel('Purchase amount', fontdict = {'fontname' : 'Monospace', 'fontsize' : 10})\n",
        "plt.tick_params(labelsize = 7)\n",
        "plt.show()"
      ],
      "execution_count": null,
      "outputs": [
        {
          "output_type": "display_data",
          "data": {
            "text/plain": [
              "<Figure size 640x480 with 1 Axes>"
            ],
            "image/png": "[encoded data removed]"
          },
          "metadata": {}
        }
      ]
    },
    {
      "cell_type": "markdown",
      "metadata": {
        "id": "vlaDjOaRUip1"
      },
      "source": [
        "### 2.3 Multivariate Analysis"
      ]
    },
    {
      "cell_type": "code",
      "metadata": {
        "id": "anhvqCp6Uip5",
        "scrolled": false,
        "colab": {
          "base_uri": "https://localhost:8080/",
          "height": 561
        },
        "outputId": "298f6414-713c-46d4-8377-bdfd9bd4be19"
      },
      "source": [
        "# Creating a heatmap of correlation matrix\n",
        "sns.heatmap(train.corr(), annot = True)\n",
        "plt.show()"
      ],
      "execution_count": null,
      "outputs": [
        {
          "output_type": "display_data",
          "data": {
            "text/plain": [
              "<Figure size 640x480 with 2 Axes>"
            ],
            "image/png": "[encoded data removed]"
          },
          "metadata": {}
        }
      ]
    },
    {
      "cell_type": "markdown",
      "metadata": {
        "id": "Vm82GamkUip7"
      },
      "source": [
        "<div class=\"alert alert-block alert-info\">\n",
        "\n",
        "<h3 style=\"font-family:verdana;\"> Observations:</h3>\n",
        "\n",
        "<ul>\n",
        "        \n",
        "<li><p style=\"font-family:verdana;\">\n",
        "An interesting observation can be made from the gender distribution plot that the number of females was less than the number of men who shopped during Black Friday.\n",
        "</p></li>    \n",
        "\n",
        "<li><p style=\"font-family:verdana;\">\n",
        "From the correlation heatmap, we can observe that the dependent feature 'Purchase' is highly correlated with 'Product_Category_1' and 'Product_Category_2'.\n",
        "</p></li>    \n",
        "\n",
        "</ul>\n",
        "\n",
        "</div>"
      ]
    },
    {
      "cell_type": "markdown",
      "metadata": {
        "id": "0oloW4xU3MtJ"
      },
      "source": [
        "## Step 3: Data preprocessing"
      ]
    },
    {
      "cell_type": "markdown",
      "metadata": {
        "id": "RureqvQsUip8"
      },
      "source": [
        "### 3.1: Merging of train and test"
      ]
    },
    {
      "cell_type": "code",
      "metadata": {
        "id": "bDE0tiIB3MtK"
      },
      "source": [
        "train['source'] = 'train'\n",
        "test['source'] = 'test'"
      ],
      "execution_count": null,
      "outputs": []
    },
    {
      "cell_type": "code",
      "metadata": {
        "id": "Zuc6cYvm3MtN"
      },
      "source": [
        "dataset = pd.concat([train, test])"
      ],
      "execution_count": null,
      "outputs": []
    },
    {
      "cell_type": "markdown",
      "metadata": {
        "id": "4n37P4BdUiqB"
      },
      "source": [
        "### 3.2: Replacing '+' in 'Age' and 'Stay_In_Current_City_Years'"
      ]
    },
    {
      "cell_type": "code",
      "metadata": {
        "id": "jvi_P07e3MtT"
      },
      "source": [
        "dataset['Age'] = dataset['Age'].apply(lambda x : str(x).replace('55+', '55'))"
      ],
      "execution_count": null,
      "outputs": []
    },
    {
      "cell_type": "code",
      "metadata": {
        "id": "OQa5gs0j3Mtd"
      },
      "source": [
        "dataset['Stay_In_Current_City_Years'] = dataset['Stay_In_Current_City_Years'].apply(lambda x : str(x).replace('4+', '4'))"
      ],
      "execution_count": null,
      "outputs": []
    },
    {
      "cell_type": "markdown",
      "metadata": {
        "id": "sN0lO8BhUiqF"
      },
      "source": [
        "### 3.3: Dropping irrelevant features"
      ]
    },
    {
      "cell_type": "code",
      "metadata": {
        "id": "EHCJbjxs3Mti"
      },
      "source": [
        "dataset.drop('Product_Category_3', axis = 1, inplace = True)"
      ],
      "execution_count": null,
      "outputs": []
    },
    {
      "cell_type": "code",
      "metadata": {
        "id": "NhlluLOq3Mtl"
      },
      "source": [
        "dataset.drop('User_ID', axis = 1, inplace = True)"
      ],
      "execution_count": null,
      "outputs": []
    },
    {
      "cell_type": "code",
      "metadata": {
        "id": "_aZlRTeH3Mtn"
      },
      "source": [
        "dataset.drop('Product_ID', axis = 1, inplace = True)"
      ],
      "execution_count": null,
      "outputs": []
    },
    {
      "cell_type": "markdown",
      "metadata": {
        "id": "FqIyWMroUiqL"
      },
      "source": [
        "### 3.4: Feature Encoding"
      ]
    },
    {
      "cell_type": "code",
      "metadata": {
        "id": "IO50pKm63Mtu"
      },
      "source": [
        "from sklearn.preprocessing import LabelEncoder"
      ],
      "execution_count": null,
      "outputs": []
    },
    {
      "cell_type": "code",
      "metadata": {
        "id": "jBFWkMZ73Mtx"
      },
      "source": [
        "label_encoder_gender = LabelEncoder()\n",
        "dataset['Gender'] = label_encoder_gender.fit_transform(dataset['Gender'])"
      ],
      "execution_count": null,
      "outputs": []
    },
    {
      "cell_type": "code",
      "metadata": {
        "id": "9L90F9ho3Mt3"
      },
      "source": [
        "label_encoder_age = LabelEncoder()\n",
        "dataset['Age'] = label_encoder_age.fit_transform(dataset['Age'])"
      ],
      "execution_count": null,
      "outputs": []
    },
    {
      "cell_type": "code",
      "metadata": {
        "id": "HE2pifLq3Mt-"
      },
      "source": [
        "label_encoder_city = LabelEncoder()\n",
        "dataset['City_Category'] = label_encoder_city.fit_transform(dataset['City_Category'])"
      ],
      "execution_count": null,
      "outputs": []
    },
    {
      "cell_type": "markdown",
      "metadata": {
        "id": "h-8SVn_CUiqT"
      },
      "source": [
        "### 3.5: Fixing null values in 'Product_Category_2'"
      ]
    },
    {
      "cell_type": "code",
      "metadata": {
        "id": "t2dji5qZ3MuI"
      },
      "source": [
        "dataset['Product_Category_2'].fillna(dataset['Product_Category_2'].median(), inplace = True)"
      ],
      "execution_count": null,
      "outputs": []
    },
    {
      "cell_type": "code",
      "source": [
        "dataset['Purchase'].fillna(dataset['Purchase'].median(), inplace = True)"
      ],
      "metadata": {
        "id": "jtYPleoI-CCv"
      },
      "execution_count": null,
      "outputs": []
    },
    {
      "cell_type": "code",
      "source": [
        "dataset['Occupation'].fillna(dataset['Occupation'].median(), inplace = True)"
      ],
      "metadata": {
        "id": "G1C0NyLI-reB"
      },
      "execution_count": null,
      "outputs": []
    },
    {
      "cell_type": "code",
      "source": [
        "dataset['Marital_Status'].fillna(0.0, inplace = True)"
      ],
      "metadata": {
        "id": "xxdIvHSN-rsy"
      },
      "execution_count": null,
      "outputs": []
    },
    {
      "cell_type": "code",
      "source": [
        "dataset['Product_Category_1'].fillna(dataset['Product_Category_1'].median(), inplace = True)"
      ],
      "metadata": {
        "id": "rr22YuYy-6DX"
      },
      "execution_count": null,
      "outputs": []
    },
    {
      "cell_type": "markdown",
      "metadata": {
        "id": "UO-OsBXbUiqW"
      },
      "source": [
        "### 3.6: Convert 'Stay_In_Current_City_Years' into numeric data type"
      ]
    },
    {
      "cell_type": "code",
      "metadata": {
        "id": "m59kHugP3MuO",
        "colab": {
          "base_uri": "https://localhost:8080/",
          "height": 1000
        },
        "outputId": "d08b92f7-eea0-4da8-ed1e-3bcfe6007c44"
      },
      "source": [
        "dataset['Stay_In_Current_City_Years'] = dataset['Stay_In_Current_City_Years'].astype('float').astype(int)\n",
        "dataset.head(26)"
      ],
      "execution_count": null,
      "outputs": [
        {
          "output_type": "execute_result",
          "data": {
            "text/plain": [
              "   Gender    Age  Occupation City_Category  Stay_In_Current_City_Years  \\\n",
              "0       F   0-17          10             A                           2   \n",
              "1       F   0-17          10             A                           2   \n",
              "2       F   0-17          10             A                           2   \n",
              "3       F   0-17          10             A                           2   \n",
              "4       M     55          16             C                           4   \n",
              "5       M  26-35          15             A                           3   \n",
              "6       M  46-50           7             B                           2   \n",
              "7       M  46-50           7             B                           2   \n",
              "8       M  46-50           7             B                           2   \n",
              "9       M  26-35          20             A                           1   \n",
              "10      M  26-35          20             A                           1   \n",
              "11      M  26-35          20             A                           1   \n",
              "12      M  26-35          20             A                           1   \n",
              "13      M  26-35          20             A                           1   \n",
              "14      F  51-55           9             A                           1   \n",
              "15      F  51-55           9             A                           1   \n",
              "16      F  51-55           9             A                           1   \n",
              "17      F  51-55           9             A                           1   \n",
              "18      M  36-45           1             B                           1   \n",
              "19      M  26-35          12             C                           4   \n",
              "20      M  26-35          12             C                           4   \n",
              "21      M  26-35          12             C                           4   \n",
              "22      M  26-35          12             C                           4   \n",
              "23      M  26-35          12             C                           4   \n",
              "24      M  26-35          12             C                           4   \n",
              "25      M  26-35          17             C                           0   \n",
              "\n",
              "    Marital_Status  Product_Category_1  Product_Category_2  Purchase source  \n",
              "0                0                   3                 9.0    8370.0  train  \n",
              "1                0                   1                 6.0   15200.0  train  \n",
              "2                0                  12                 9.0    1422.0  train  \n",
              "3                0                  12                14.0    1057.0  train  \n",
              "4                0                   8                 9.0    7969.0  train  \n",
              "5                0                   1                 2.0   15227.0  train  \n",
              "6                1                   1                 8.0   19215.0  train  \n",
              "7                1                   1                15.0   15854.0  train  \n",
              "8                1                   1                16.0   15686.0  train  \n",
              "9                1                   8                 9.0    7871.0  train  \n",
              "10               1                   5                11.0    5254.0  train  \n",
              "11               1                   8                 9.0    3957.0  train  \n",
              "12               1                   8                 9.0    6073.0  train  \n",
              "13               1                   1                 2.0   15665.0  train  \n",
              "14               0                   5                 8.0    5378.0  train  \n",
              "15               0                   4                 5.0    2079.0  train  \n",
              "16               0                   2                 3.0   13055.0  train  \n",
              "17               0                   5                14.0    8851.0  train  \n",
              "18               1                   1                14.0   11788.0  train  \n",
              "19               1                   1                 5.0   19614.0  train  \n",
              "20               1                   5                14.0    8584.0  train  \n",
              "21               1                   8                 9.0    9872.0  train  \n",
              "22               1                   8                 9.0    9743.0  train  \n",
              "23               1                   8                 9.0    5982.0  train  \n",
              "24               1                   1                 8.0   11927.0  train  \n",
              "25               0                   6                 8.0   16662.0  train  "
            ],
            "text/html": [
              "\n",
              "  <div id=\"df-a89f2eb3-0f9d-4722-80c3-eefeb7e7f549\">\n",
              "    <div class=\"colab-df-container\">\n",
              "      <div>\n",
              "<style scoped>\n",
              "    .dataframe tbody tr th:only-of-type {\n",
              "        vertical-align: middle;\n",
              "    }\n",
              "\n",
              "    .dataframe tbody tr th {\n",
              "        vertical-align: top;\n",
              "    }\n",
              "\n",
              "    .dataframe thead th {\n",
              "        text-align: right;\n",
              "    }\n",
              "</style>\n",
              "<table border=\"1\" class=\"dataframe\">\n",
              "  <thead>\n",
              "    <tr style=\"text-align: right;\">\n",
              "      <th></th>\n",
              "      <th>Gender</th>\n",
              "      <th>Age</th>\n",
              "      <th>Occupation</th>\n",
              "      <th>City_Category</th>\n",
              "      <th>Stay_In_Current_City_Years</th>\n",
              "      <th>Marital_Status</th>\n",
              "      <th>Product_Category_1</th>\n",
              "      <th>Product_Category_2</th>\n",
              "      <th>Purchase</th>\n",
              "      <th>source</th>\n",
              "    </tr>\n",
              "  </thead>\n",
              "  <tbody>\n",
              "    <tr>\n",
              "      <th>0</th>\n",
              "      <td>F</td>\n",
              "      <td>0-17</td>\n",
              "      <td>10</td>\n",
              "      <td>A</td>\n",
              "      <td>2</td>\n",
              "      <td>0</td>\n",
              "      <td>3</td>\n",
              "      <td>9.0</td>\n",
              "      <td>8370.0</td>\n",
              "      <td>train</td>\n",
              "    </tr>\n",
              "    <tr>\n",
              "      <th>1</th>\n",
              "      <td>F</td>\n",
              "      <td>0-17</td>\n",
              "      <td>10</td>\n",
              "      <td>A</td>\n",
              "      <td>2</td>\n",
              "      <td>0</td>\n",
              "      <td>1</td>\n",
              "      <td>6.0</td>\n",
              "      <td>15200.0</td>\n",
              "      <td>train</td>\n",
              "    </tr>\n",
              "    <tr>\n",
              "      <th>2</th>\n",
              "      <td>F</td>\n",
              "      <td>0-17</td>\n",
              "      <td>10</td>\n",
              "      <td>A</td>\n",
              "      <td>2</td>\n",
              "      <td>0</td>\n",
              "      <td>12</td>\n",
              "      <td>9.0</td>\n",
              "      <td>1422.0</td>\n",
              "      <td>train</td>\n",
              "    </tr>\n",
              "    <tr>\n",
              "      <th>3</th>\n",
              "      <td>F</td>\n",
              "      <td>0-17</td>\n",
              "      <td>10</td>\n",
              "      <td>A</td>\n",
              "      <td>2</td>\n",
              "      <td>0</td>\n",
              "      <td>12</td>\n",
              "      <td>14.0</td>\n",
              "      <td>1057.0</td>\n",
              "      <td>train</td>\n",
              "    </tr>\n",
              "    <tr>\n",
              "      <th>4</th>\n",
              "      <td>M</td>\n",
              "      <td>55</td>\n",
              "      <td>16</td>\n",
              "      <td>C</td>\n",
              "      <td>4</td>\n",
              "      <td>0</td>\n",
              "      <td>8</td>\n",
              "      <td>9.0</td>\n",
              "      <td>7969.0</td>\n",
              "      <td>train</td>\n",
              "    </tr>\n",
              "    <tr>\n",
              "      <th>5</th>\n",
              "      <td>M</td>\n",
              "      <td>26-35</td>\n",
              "      <td>15</td>\n",
              "      <td>A</td>\n",
              "      <td>3</td>\n",
              "      <td>0</td>\n",
              "      <td>1</td>\n",
              "      <td>2.0</td>\n",
              "      <td>15227.0</td>\n",
              "      <td>train</td>\n",
              "    </tr>\n",
              "    <tr>\n",
              "      <th>6</th>\n",
              "      <td>M</td>\n",
              "      <td>46-50</td>\n",
              "      <td>7</td>\n",
              "      <td>B</td>\n",
              "      <td>2</td>\n",
              "      <td>1</td>\n",
              "      <td>1</td>\n",
              "      <td>8.0</td>\n",
              "      <td>19215.0</td>\n",
              "      <td>train</td>\n",
              "    </tr>\n",
              "    <tr>\n",
              "      <th>7</th>\n",
              "      <td>M</td>\n",
              "      <td>46-50</td>\n",
              "      <td>7</td>\n",
              "      <td>B</td>\n",
              "      <td>2</td>\n",
              "      <td>1</td>\n",
              "      <td>1</td>\n",
              "      <td>15.0</td>\n",
              "      <td>15854.0</td>\n",
              "      <td>train</td>\n",
              "    </tr>\n",
              "    <tr>\n",
              "      <th>8</th>\n",
              "      <td>M</td>\n",
              "      <td>46-50</td>\n",
              "      <td>7</td>\n",
              "      <td>B</td>\n",
              "      <td>2</td>\n",
              "      <td>1</td>\n",
              "      <td>1</td>\n",
              "      <td>16.0</td>\n",
              "      <td>15686.0</td>\n",
              "      <td>train</td>\n",
              "    </tr>\n",
              "    <tr>\n",
              "      <th>9</th>\n",
              "      <td>M</td>\n",
              "      <td>26-35</td>\n",
              "      <td>20</td>\n",
              "      <td>A</td>\n",
              "      <td>1</td>\n",
              "      <td>1</td>\n",
              "      <td>8</td>\n",
              "      <td>9.0</td>\n",
              "      <td>7871.0</td>\n",
              "      <td>train</td>\n",
              "    </tr>\n",
              "    <tr>\n",
              "      <th>10</th>\n",
              "      <td>M</td>\n",
              "      <td>26-35</td>\n",
              "      <td>20</td>\n",
              "      <td>A</td>\n",
              "      <td>1</td>\n",
              "      <td>1</td>\n",
              "      <td>5</td>\n",
              "      <td>11.0</td>\n",
              "      <td>5254.0</td>\n",
              "      <td>train</td>\n",
              "    </tr>\n",
              "    <tr>\n",
              "      <th>11</th>\n",
              "      <td>M</td>\n",
              "      <td>26-35</td>\n",
              "      <td>20</td>\n",
              "      <td>A</td>\n",
              "      <td>1</td>\n",
              "      <td>1</td>\n",
              "      <td>8</td>\n",
              "      <td>9.0</td>\n",
              "      <td>3957.0</td>\n",
              "      <td>train</td>\n",
              "    </tr>\n",
              "    <tr>\n",
              "      <th>12</th>\n",
              "      <td>M</td>\n",
              "      <td>26-35</td>\n",
              "      <td>20</td>\n",
              "      <td>A</td>\n",
              "      <td>1</td>\n",
              "      <td>1</td>\n",
              "      <td>8</td>\n",
              "      <td>9.0</td>\n",
              "      <td>6073.0</td>\n",
              "      <td>train</td>\n",
              "    </tr>\n",
              "    <tr>\n",
              "      <th>13</th>\n",
              "      <td>M</td>\n",
              "      <td>26-35</td>\n",
              "      <td>20</td>\n",
              "      <td>A</td>\n",
              "      <td>1</td>\n",
              "      <td>1</td>\n",
              "      <td>1</td>\n",
              "      <td>2.0</td>\n",
              "      <td>15665.0</td>\n",
              "      <td>train</td>\n",
              "    </tr>\n",
              "    <tr>\n",
              "      <th>14</th>\n",
              "      <td>F</td>\n",
              "      <td>51-55</td>\n",
              "      <td>9</td>\n",
              "      <td>A</td>\n",
              "      <td>1</td>\n",
              "      <td>0</td>\n",
              "      <td>5</td>\n",
              "      <td>8.0</td>\n",
              "      <td>5378.0</td>\n",
              "      <td>train</td>\n",
              "    </tr>\n",
              "    <tr>\n",
              "      <th>15</th>\n",
              "      <td>F</td>\n",
              "      <td>51-55</td>\n",
              "      <td>9</td>\n",
              "      <td>A</td>\n",
              "      <td>1</td>\n",
              "      <td>0</td>\n",
              "      <td>4</td>\n",
              "      <td>5.0</td>\n",
              "      <td>2079.0</td>\n",
              "      <td>train</td>\n",
              "    </tr>\n",
              "    <tr>\n",
              "      <th>16</th>\n",
              "      <td>F</td>\n",
              "      <td>51-55</td>\n",
              "      <td>9</td>\n",
              "      <td>A</td>\n",
              "      <td>1</td>\n",
              "      <td>0</td>\n",
              "      <td>2</td>\n",
              "      <td>3.0</td>\n",
              "      <td>13055.0</td>\n",
              "      <td>train</td>\n",
              "    </tr>\n",
              "    <tr>\n",
              "      <th>17</th>\n",
              "      <td>F</td>\n",
              "      <td>51-55</td>\n",
              "      <td>9</td>\n",
              "      <td>A</td>\n",
              "      <td>1</td>\n",
              "      <td>0</td>\n",
              "      <td>5</td>\n",
              "      <td>14.0</td>\n",
              "      <td>8851.0</td>\n",
              "      <td>train</td>\n",
              "    </tr>\n",
              "    <tr>\n",
              "      <th>18</th>\n",
              "      <td>M</td>\n",
              "      <td>36-45</td>\n",
              "      <td>1</td>\n",
              "      <td>B</td>\n",
              "      <td>1</td>\n",
              "      <td>1</td>\n",
              "      <td>1</td>\n",
              "      <td>14.0</td>\n",
              "      <td>11788.0</td>\n",
              "      <td>train</td>\n",
              "    </tr>\n",
              "    <tr>\n",
              "      <th>19</th>\n",
              "      <td>M</td>\n",
              "      <td>26-35</td>\n",
              "      <td>12</td>\n",
              "      <td>C</td>\n",
              "      <td>4</td>\n",
              "      <td>1</td>\n",
              "      <td>1</td>\n",
              "      <td>5.0</td>\n",
              "      <td>19614.0</td>\n",
              "      <td>train</td>\n",
              "    </tr>\n",
              "    <tr>\n",
              "      <th>20</th>\n",
              "      <td>M</td>\n",
              "      <td>26-35</td>\n",
              "      <td>12</td>\n",
              "      <td>C</td>\n",
              "      <td>4</td>\n",
              "      <td>1</td>\n",
              "      <td>5</td>\n",
              "      <td>14.0</td>\n",
              "      <td>8584.0</td>\n",
              "      <td>train</td>\n",
              "    </tr>\n",
              "    <tr>\n",
              "      <th>21</th>\n",
              "      <td>M</td>\n",
              "      <td>26-35</td>\n",
              "      <td>12</td>\n",
              "      <td>C</td>\n",
              "      <td>4</td>\n",
              "      <td>1</td>\n",
              "      <td>8</td>\n",
              "      <td>9.0</td>\n",
              "      <td>9872.0</td>\n",
              "      <td>train</td>\n",
              "    </tr>\n",
              "    <tr>\n",
              "      <th>22</th>\n",
              "      <td>M</td>\n",
              "      <td>26-35</td>\n",
              "      <td>12</td>\n",
              "      <td>C</td>\n",
              "      <td>4</td>\n",
              "      <td>1</td>\n",
              "      <td>8</td>\n",
              "      <td>9.0</td>\n",
              "      <td>9743.0</td>\n",
              "      <td>train</td>\n",
              "    </tr>\n",
              "    <tr>\n",
              "      <th>23</th>\n",
              "      <td>M</td>\n",
              "      <td>26-35</td>\n",
              "      <td>12</td>\n",
              "      <td>C</td>\n",
              "      <td>4</td>\n",
              "      <td>1</td>\n",
              "      <td>8</td>\n",
              "      <td>9.0</td>\n",
              "      <td>5982.0</td>\n",
              "      <td>train</td>\n",
              "    </tr>\n",
              "    <tr>\n",
              "      <th>24</th>\n",
              "      <td>M</td>\n",
              "      <td>26-35</td>\n",
              "      <td>12</td>\n",
              "      <td>C</td>\n",
              "      <td>4</td>\n",
              "      <td>1</td>\n",
              "      <td>1</td>\n",
              "      <td>8.0</td>\n",
              "      <td>11927.0</td>\n",
              "      <td>train</td>\n",
              "    </tr>\n",
              "    <tr>\n",
              "      <th>25</th>\n",
              "      <td>M</td>\n",
              "      <td>26-35</td>\n",
              "      <td>17</td>\n",
              "      <td>C</td>\n",
              "      <td>0</td>\n",
              "      <td>0</td>\n",
              "      <td>6</td>\n",
              "      <td>8.0</td>\n",
              "      <td>16662.0</td>\n",
              "      <td>train</td>\n",
              "    </tr>\n",
              "  </tbody>\n",
              "</table>\n",
              "</div>\n",
              "      <button class=\"colab-df-convert\" onclick=\"convertToInteractive('df-a89f2eb3-0f9d-4722-80c3-eefeb7e7f549')\"\n",
              "              title=\"Convert this dataframe to an interactive table.\"\n",
              "              style=\"display:none;\">\n",
              "        \n",
              "  <svg xmlns=\"http://www.w3.org/2000/svg\" height=\"24px\"viewBox=\"0 0 24 24\"\n",
              "       width=\"24px\">\n",
              "    <path d=\"M0 0h24v24H0V0z\" fill=\"none\"/>\n",
              "    <path d=\"M18.56 5.44l.94 2.06.94-2.06 2.06-.94-2.06-.94-.94-2.06-.94 2.06-2.06.94zm-11 1L8.5 8.5l.94-2.06 2.06-.94-2.06-.94L8.5 2.5l-.94 2.06-2.06.94zm10 10l.94 2.06.94-2.06 2.06-.94-2.06-.94-.94-2.06-.94 2.06-2.06.94z\"/><path d=\"M17.41 7.96l-1.37-1.37c-.4-.4-.92-.59-1.43-.59-.52 0-1.04.2-1.43.59L10.3 9.45l-7.72 7.72c-.78.78-.78 2.05 0 2.83L4 21.41c.39.39.9.59 1.41.59.51 0 1.02-.2 1.41-.59l7.78-7.78 2.81-2.81c.8-.78.8-2.07 0-2.86zM5.41 20L4 18.59l7.72-7.72 1.47 1.35L5.41 20z\"/>\n",
              "  </svg>\n",
              "      </button>\n",
              "      \n",
              "  <style>\n",
              "    .colab-df-container {\n",
              "      display:flex;\n",
              "      flex-wrap:wrap;\n",
              "      gap: 12px;\n",
              "    }\n",
              "\n",
              "    .colab-df-convert {\n",
              "      background-color: #E8F0FE;\n",
              "      border: none;\n",
              "      border-radius: 50%;\n",
              "      cursor: pointer;\n",
              "      display: none;\n",
              "      fill: #1967D2;\n",
              "      height: 32px;\n",
              "      padding: 0 0 0 0;\n",
              "      width: 32px;\n",
              "    }\n",
              "\n",
              "    .colab-df-convert:hover {\n",
              "      background-color: #E2EBFA;\n",
              "      box-shadow: 0px 1px 2px rgba(60, 64, 67, 0.3), 0px 1px 3px 1px rgba(60, 64, 67, 0.15);\n",
              "      fill: #174EA6;\n",
              "    }\n",
              "\n",
              "    [theme=dark] .colab-df-convert {\n",
              "      background-color: #3B4455;\n",
              "      fill: #D2E3FC;\n",
              "    }\n",
              "\n",
              "    [theme=dark] .colab-df-convert:hover {\n",
              "      background-color: #434B5C;\n",
              "      box-shadow: 0px 1px 3px 1px rgba(0, 0, 0, 0.15);\n",
              "      filter: drop-shadow(0px 1px 2px rgba(0, 0, 0, 0.3));\n",
              "      fill: #FFFFFF;\n",
              "    }\n",
              "  </style>\n",
              "\n",
              "      <script>\n",
              "        const buttonEl =\n",
              "          document.querySelector('#df-a89f2eb3-0f9d-4722-80c3-eefeb7e7f549 button.colab-df-convert');\n",
              "        buttonEl.style.display =\n",
              "          google.colab.kernel.accessAllowed ? 'block' : 'none';\n",
              "\n",
              "        async function convertToInteractive(key) {\n",
              "          const element = document.querySelector('#df-a89f2eb3-0f9d-4722-80c3-eefeb7e7f549');\n",
              "          const dataTable =\n",
              "            await google.colab.kernel.invokeFunction('convertToInteractive',\n",
              "                                                     [key], {});\n",
              "          if (!dataTable) return;\n",
              "\n",
              "          const docLinkHtml = 'Like what you see? Visit the ' +\n",
              "            '<a target=\"_blank\" href=https://colab.research.google.com/notebooks/data_table.ipynb>data table notebook</a>'\n",
              "            + ' to learn more about interactive tables.';\n",
              "          element.innerHTML = '';\n",
              "          dataTable['output_type'] = 'display_data';\n",
              "          await google.colab.output.renderOutput(dataTable, element);\n",
              "          const docLink = document.createElement('div');\n",
              "          docLink.innerHTML = docLinkHtml;\n",
              "          element.appendChild(docLink);\n",
              "        }\n",
              "      </script>\n",
              "    </div>\n",
              "  </div>\n",
              "  "
            ]
          },
          "metadata": {},
          "execution_count": 102
        }
      ]
    },
    {
      "cell_type": "markdown",
      "metadata": {
        "id": "3-KogTTsUiqY"
      },
      "source": [
        "### 3.7: Separating dataset into train and test"
      ]
    },
    {
      "cell_type": "code",
      "metadata": {
        "id": "5b4CHoDv3MuZ"
      },
      "source": [
        "train = dataset.loc[dataset['source'] == 'train']\n",
        "test = dataset.loc[dataset['source'] == 'test']"
      ],
      "execution_count": null,
      "outputs": []
    },
    {
      "cell_type": "code",
      "metadata": {
        "id": "BZ9fc8it3Muf"
      },
      "source": [
        "train.drop('source', axis = 1, inplace = True)\n",
        "test.drop('source', axis = 1, inplace = True)"
      ],
      "execution_count": null,
      "outputs": []
    },
    {
      "cell_type": "markdown",
      "metadata": {
        "id": "RX9sgErHUiqd"
      },
      "source": [
        "### 3.8: Separating train into X and Y"
      ]
    },
    {
      "cell_type": "code",
      "metadata": {
        "id": "X90LTEhX3Mut"
      },
      "source": [
        "X = train.drop(\"Purchase\", axis = 1)"
      ],
      "execution_count": null,
      "outputs": []
    },
    {
      "cell_type": "code",
      "metadata": {
        "id": "mEix85vi3Mux"
      },
      "source": [
        "Y = train[\"Purchase\"]"
      ],
      "execution_count": null,
      "outputs": []
    },
    {
      "cell_type": "markdown",
      "metadata": {
        "id": "IUNZfnnEUiqj"
      },
      "source": [
        "### 3.9: Feature Selection"
      ]
    },
    {
      "cell_type": "code",
      "metadata": {
        "id": "DJz1blPf3Mu2"
      },
      "source": [
        "from sklearn.ensemble import ExtraTreesRegressor\n",
        "selector = ExtraTreesRegressor()"
      ],
      "execution_count": null,
      "outputs": []
    },
    {
      "cell_type": "code",
      "metadata": {
        "id": "GLZPpjob3Mu7",
        "colab": {
          "base_uri": "https://localhost:8080/"
        },
        "outputId": "5f821a71-639b-48e5-9878-1c023ee8e0d8"
      },
      "source": [
        "selector.fit(X, Y)"
      ],
      "execution_count": null,
      "outputs": [
        {
          "output_type": "execute_result",
          "data": {
            "text/plain": [
              "ExtraTreesRegressor()"
            ]
          },
          "metadata": {},
          "execution_count": 25
        }
      ]
    },
    {
      "cell_type": "code",
      "metadata": {
        "id": "wDf6eIj73MvA"
      },
      "source": [
        "feature_imp = selector.feature_importances_"
      ],
      "execution_count": null,
      "outputs": []
    },
    {
      "cell_type": "code",
      "metadata": {
        "id": "KJZtSKg_3MvG",
        "colab": {
          "base_uri": "https://localhost:8080/"
        },
        "outputId": "fcf63da2-72d1-4de4-b94d-c4c89eba4826"
      },
      "source": [
        "for index, val in enumerate(feature_imp):\n",
        "    print(index, round((val * 100), 2))"
      ],
      "execution_count": null,
      "outputs": [
        {
          "output_type": "stream",
          "name": "stdout",
          "text": [
            "0 0.47\n",
            "1 2.07\n",
            "2 4.89\n",
            "3 0.73\n",
            "4 2.55\n",
            "5 0.6\n",
            "6 80.84\n",
            "7 7.84\n"
          ]
        }
      ]
    },
    {
      "cell_type": "code",
      "metadata": {
        "id": "E1RT6Lp53MvM"
      },
      "source": [
        "X.drop(['Gender', 'City_Category', 'Marital_Status'], axis = 1, inplace = True)"
      ],
      "execution_count": null,
      "outputs": []
    },
    {
      "cell_type": "markdown",
      "metadata": {
        "id": "NXbyWE1TUiqv"
      },
      "source": [
        "### 3.10: Feature Scaling"
      ]
    },
    {
      "cell_type": "code",
      "metadata": {
        "id": "_fmXWgHJ9YhZ"
      },
      "source": [
        "from sklearn.preprocessing import StandardScaler\n",
        "scaler = StandardScaler()"
      ],
      "execution_count": null,
      "outputs": []
    },
    {
      "cell_type": "code",
      "metadata": {
        "id": "snTa3M2q9lIG"
      },
      "source": [
        "for col in X.columns:\n",
        "  X[col] = scaler.fit_transform(X[col].values.reshape(-1, 1))"
      ],
      "execution_count": null,
      "outputs": []
    },
    {
      "cell_type": "code",
      "source": [
        "X.head(26)"
      ],
      "metadata": {
        "colab": {
          "base_uri": "https://localhost:8080/",
          "height": 864
        },
        "id": "I_JicXr8seJT",
        "outputId": "52519177-47c1-43d9-effb-1270e810f9a7"
      },
      "execution_count": null,
      "outputs": [
        {
          "output_type": "execute_result",
          "data": {
            "text/plain": [
              "         Age  Occupation  Stay_In_Current_City_Years  Product_Category_1  \\\n",
              "0  -1.844248    0.294864                    0.109801           -0.610809   \n",
              "1  -1.844248    0.294864                    0.109801           -1.118912   \n",
              "2  -1.844248    0.294864                    0.109801            1.675656   \n",
              "3  -1.844248    0.294864                    0.109801            1.675656   \n",
              "4   2.588277    1.214734                    1.660861            0.659449   \n",
              "5  -0.366739    1.061423                    0.885331           -1.118912   \n",
              "6   1.110769   -0.165072                    0.109801           -1.118912   \n",
              "7   1.110769   -0.165072                    0.109801           -1.118912   \n",
              "8   1.110769   -0.165072                    0.109801           -1.118912   \n",
              "9  -0.366739    1.827982                   -0.665728            0.659449   \n",
              "10 -0.366739    1.827982                   -0.665728           -0.102705   \n",
              "11 -0.366739    1.827982                   -0.665728            0.659449   \n",
              "12 -0.366739    1.827982                   -0.665728            0.659449   \n",
              "13 -0.366739    1.827982                   -0.665728           -1.118912   \n",
              "14  1.849523    0.141552                   -0.665728           -0.102705   \n",
              "15  1.849523    0.141552                   -0.665728           -0.356757   \n",
              "16  1.849523    0.141552                   -0.665728           -0.864860   \n",
              "17  1.849523    0.141552                   -0.665728           -0.102705   \n",
              "18  0.372015   -1.084943                   -0.665728           -1.118912   \n",
              "19 -0.366739    0.601487                    1.660861           -1.118912   \n",
              "20 -0.366739    0.601487                    1.660861           -0.102705   \n",
              "21 -0.366739    0.601487                    1.660861            0.659449   \n",
              "22 -0.366739    0.601487                    1.660861            0.659449   \n",
              "23 -0.366739    0.601487                    1.660861            0.659449   \n",
              "24 -0.366739    0.601487                    1.660861           -1.118912   \n",
              "25 -0.366739    1.368046                   -1.441258            0.151346   \n",
              "\n",
              "    Product_Category_2  \n",
              "0            -0.136401  \n",
              "1            -0.846289  \n",
              "2            -0.136401  \n",
              "3             1.046745  \n",
              "4            -0.136401  \n",
              "5            -1.792805  \n",
              "6            -0.373030  \n",
              "7             1.283374  \n",
              "8             1.520003  \n",
              "9            -0.136401  \n",
              "10            0.336857  \n",
              "11           -0.136401  \n",
              "12           -0.136401  \n",
              "13           -1.792805  \n",
              "14           -0.373030  \n",
              "15           -1.082918  \n",
              "16           -1.556176  \n",
              "17            1.046745  \n",
              "18            1.046745  \n",
              "19           -1.082918  \n",
              "20            1.046745  \n",
              "21           -0.136401  \n",
              "22           -0.136401  \n",
              "23           -0.136401  \n",
              "24           -0.373030  \n",
              "25           -0.373030  "
            ],
            "text/html": [
              "\n",
              "  <div id=\"df-182d1b45-b9b4-4c8e-9340-2379d13a7e4b\">\n",
              "    <div class=\"colab-df-container\">\n",
              "      <div>\n",
              "<style scoped>\n",
              "    .dataframe tbody tr th:only-of-type {\n",
              "        vertical-align: middle;\n",
              "    }\n",
              "\n",
              "    .dataframe tbody tr th {\n",
              "        vertical-align: top;\n",
              "    }\n",
              "\n",
              "    .dataframe thead th {\n",
              "        text-align: right;\n",
              "    }\n",
              "</style>\n",
              "<table border=\"1\" class=\"dataframe\">\n",
              "  <thead>\n",
              "    <tr style=\"text-align: right;\">\n",
              "      <th></th>\n",
              "      <th>Age</th>\n",
              "      <th>Occupation</th>\n",
              "      <th>Stay_In_Current_City_Years</th>\n",
              "      <th>Product_Category_1</th>\n",
              "      <th>Product_Category_2</th>\n",
              "    </tr>\n",
              "  </thead>\n",
              "  <tbody>\n",
              "    <tr>\n",
              "      <th>0</th>\n",
              "      <td>-1.844248</td>\n",
              "      <td>0.294864</td>\n",
              "      <td>0.109801</td>\n",
              "      <td>-0.610809</td>\n",
              "      <td>-0.136401</td>\n",
              "    </tr>\n",
              "    <tr>\n",
              "      <th>1</th>\n",
              "      <td>-1.844248</td>\n",
              "      <td>0.294864</td>\n",
              "      <td>0.109801</td>\n",
              "      <td>-1.118912</td>\n",
              "      <td>-0.846289</td>\n",
              "    </tr>\n",
              "    <tr>\n",
              "      <th>2</th>\n",
              "      <td>-1.844248</td>\n",
              "      <td>0.294864</td>\n",
              "      <td>0.109801</td>\n",
              "      <td>1.675656</td>\n",
              "      <td>-0.136401</td>\n",
              "    </tr>\n",
              "    <tr>\n",
              "      <th>3</th>\n",
              "      <td>-1.844248</td>\n",
              "      <td>0.294864</td>\n",
              "      <td>0.109801</td>\n",
              "      <td>1.675656</td>\n",
              "      <td>1.046745</td>\n",
              "    </tr>\n",
              "    <tr>\n",
              "      <th>4</th>\n",
              "      <td>2.588277</td>\n",
              "      <td>1.214734</td>\n",
              "      <td>1.660861</td>\n",
              "      <td>0.659449</td>\n",
              "      <td>-0.136401</td>\n",
              "    </tr>\n",
              "    <tr>\n",
              "      <th>5</th>\n",
              "      <td>-0.366739</td>\n",
              "      <td>1.061423</td>\n",
              "      <td>0.885331</td>\n",
              "      <td>-1.118912</td>\n",
              "      <td>-1.792805</td>\n",
              "    </tr>\n",
              "    <tr>\n",
              "      <th>6</th>\n",
              "      <td>1.110769</td>\n",
              "      <td>-0.165072</td>\n",
              "      <td>0.109801</td>\n",
              "      <td>-1.118912</td>\n",
              "      <td>-0.373030</td>\n",
              "    </tr>\n",
              "    <tr>\n",
              "      <th>7</th>\n",
              "      <td>1.110769</td>\n",
              "      <td>-0.165072</td>\n",
              "      <td>0.109801</td>\n",
              "      <td>-1.118912</td>\n",
              "      <td>1.283374</td>\n",
              "    </tr>\n",
              "    <tr>\n",
              "      <th>8</th>\n",
              "      <td>1.110769</td>\n",
              "      <td>-0.165072</td>\n",
              "      <td>0.109801</td>\n",
              "      <td>-1.118912</td>\n",
              "      <td>1.520003</td>\n",
              "    </tr>\n",
              "    <tr>\n",
              "      <th>9</th>\n",
              "      <td>-0.366739</td>\n",
              "      <td>1.827982</td>\n",
              "      <td>-0.665728</td>\n",
              "      <td>0.659449</td>\n",
              "      <td>-0.136401</td>\n",
              "    </tr>\n",
              "    <tr>\n",
              "      <th>10</th>\n",
              "      <td>-0.366739</td>\n",
              "      <td>1.827982</td>\n",
              "      <td>-0.665728</td>\n",
              "      <td>-0.102705</td>\n",
              "      <td>0.336857</td>\n",
              "    </tr>\n",
              "    <tr>\n",
              "      <th>11</th>\n",
              "      <td>-0.366739</td>\n",
              "      <td>1.827982</td>\n",
              "      <td>-0.665728</td>\n",
              "      <td>0.659449</td>\n",
              "      <td>-0.136401</td>\n",
              "    </tr>\n",
              "    <tr>\n",
              "      <th>12</th>\n",
              "      <td>-0.366739</td>\n",
              "      <td>1.827982</td>\n",
              "      <td>-0.665728</td>\n",
              "      <td>0.659449</td>\n",
              "      <td>-0.136401</td>\n",
              "    </tr>\n",
              "    <tr>\n",
              "      <th>13</th>\n",
              "      <td>-0.366739</td>\n",
              "      <td>1.827982</td>\n",
              "      <td>-0.665728</td>\n",
              "      <td>-1.118912</td>\n",
              "      <td>-1.792805</td>\n",
              "    </tr>\n",
              "    <tr>\n",
              "      <th>14</th>\n",
              "      <td>1.849523</td>\n",
              "      <td>0.141552</td>\n",
              "      <td>-0.665728</td>\n",
              "      <td>-0.102705</td>\n",
              "      <td>-0.373030</td>\n",
              "    </tr>\n",
              "    <tr>\n",
              "      <th>15</th>\n",
              "      <td>1.849523</td>\n",
              "      <td>0.141552</td>\n",
              "      <td>-0.665728</td>\n",
              "      <td>-0.356757</td>\n",
              "      <td>-1.082918</td>\n",
              "    </tr>\n",
              "    <tr>\n",
              "      <th>16</th>\n",
              "      <td>1.849523</td>\n",
              "      <td>0.141552</td>\n",
              "      <td>-0.665728</td>\n",
              "      <td>-0.864860</td>\n",
              "      <td>-1.556176</td>\n",
              "    </tr>\n",
              "    <tr>\n",
              "      <th>17</th>\n",
              "      <td>1.849523</td>\n",
              "      <td>0.141552</td>\n",
              "      <td>-0.665728</td>\n",
              "      <td>-0.102705</td>\n",
              "      <td>1.046745</td>\n",
              "    </tr>\n",
              "    <tr>\n",
              "      <th>18</th>\n",
              "      <td>0.372015</td>\n",
              "      <td>-1.084943</td>\n",
              "      <td>-0.665728</td>\n",
              "      <td>-1.118912</td>\n",
              "      <td>1.046745</td>\n",
              "    </tr>\n",
              "    <tr>\n",
              "      <th>19</th>\n",
              "      <td>-0.366739</td>\n",
              "      <td>0.601487</td>\n",
              "      <td>1.660861</td>\n",
              "      <td>-1.118912</td>\n",
              "      <td>-1.082918</td>\n",
              "    </tr>\n",
              "    <tr>\n",
              "      <th>20</th>\n",
              "      <td>-0.366739</td>\n",
              "      <td>0.601487</td>\n",
              "      <td>1.660861</td>\n",
              "      <td>-0.102705</td>\n",
              "      <td>1.046745</td>\n",
              "    </tr>\n",
              "    <tr>\n",
              "      <th>21</th>\n",
              "      <td>-0.366739</td>\n",
              "      <td>0.601487</td>\n",
              "      <td>1.660861</td>\n",
              "      <td>0.659449</td>\n",
              "      <td>-0.136401</td>\n",
              "    </tr>\n",
              "    <tr>\n",
              "      <th>22</th>\n",
              "      <td>-0.366739</td>\n",
              "      <td>0.601487</td>\n",
              "      <td>1.660861</td>\n",
              "      <td>0.659449</td>\n",
              "      <td>-0.136401</td>\n",
              "    </tr>\n",
              "    <tr>\n",
              "      <th>23</th>\n",
              "      <td>-0.366739</td>\n",
              "      <td>0.601487</td>\n",
              "      <td>1.660861</td>\n",
              "      <td>0.659449</td>\n",
              "      <td>-0.136401</td>\n",
              "    </tr>\n",
              "    <tr>\n",
              "      <th>24</th>\n",
              "      <td>-0.366739</td>\n",
              "      <td>0.601487</td>\n",
              "      <td>1.660861</td>\n",
              "      <td>-1.118912</td>\n",
              "      <td>-0.373030</td>\n",
              "    </tr>\n",
              "    <tr>\n",
              "      <th>25</th>\n",
              "      <td>-0.366739</td>\n",
              "      <td>1.368046</td>\n",
              "      <td>-1.441258</td>\n",
              "      <td>0.151346</td>\n",
              "      <td>-0.373030</td>\n",
              "    </tr>\n",
              "  </tbody>\n",
              "</table>\n",
              "</div>\n",
              "      <button class=\"colab-df-convert\" onclick=\"convertToInteractive('df-182d1b45-b9b4-4c8e-9340-2379d13a7e4b')\"\n",
              "              title=\"Convert this dataframe to an interactive table.\"\n",
              "              style=\"display:none;\">\n",
              "        \n",
              "  <svg xmlns=\"http://www.w3.org/2000/svg\" height=\"24px\"viewBox=\"0 0 24 24\"\n",
              "       width=\"24px\">\n",
              "    <path d=\"M0 0h24v24H0V0z\" fill=\"none\"/>\n",
              "    <path d=\"M18.56 5.44l.94 2.06.94-2.06 2.06-.94-2.06-.94-.94-2.06-.94 2.06-2.06.94zm-11 1L8.5 8.5l.94-2.06 2.06-.94-2.06-.94L8.5 2.5l-.94 2.06-2.06.94zm10 10l.94 2.06.94-2.06 2.06-.94-2.06-.94-.94-2.06-.94 2.06-2.06.94z\"/><path d=\"M17.41 7.96l-1.37-1.37c-.4-.4-.92-.59-1.43-.59-.52 0-1.04.2-1.43.59L10.3 9.45l-7.72 7.72c-.78.78-.78 2.05 0 2.83L4 21.41c.39.39.9.59 1.41.59.51 0 1.02-.2 1.41-.59l7.78-7.78 2.81-2.81c.8-.78.8-2.07 0-2.86zM5.41 20L4 18.59l7.72-7.72 1.47 1.35L5.41 20z\"/>\n",
              "  </svg>\n",
              "      </button>\n",
              "      \n",
              "  <style>\n",
              "    .colab-df-container {\n",
              "      display:flex;\n",
              "      flex-wrap:wrap;\n",
              "      gap: 12px;\n",
              "    }\n",
              "\n",
              "    .colab-df-convert {\n",
              "      background-color: #E8F0FE;\n",
              "      border: none;\n",
              "      border-radius: 50%;\n",
              "      cursor: pointer;\n",
              "      display: none;\n",
              "      fill: #1967D2;\n",
              "      height: 32px;\n",
              "      padding: 0 0 0 0;\n",
              "      width: 32px;\n",
              "    }\n",
              "\n",
              "    .colab-df-convert:hover {\n",
              "      background-color: #E2EBFA;\n",
              "      box-shadow: 0px 1px 2px rgba(60, 64, 67, 0.3), 0px 1px 3px 1px rgba(60, 64, 67, 0.15);\n",
              "      fill: #174EA6;\n",
              "    }\n",
              "\n",
              "    [theme=dark] .colab-df-convert {\n",
              "      background-color: #3B4455;\n",
              "      fill: #D2E3FC;\n",
              "    }\n",
              "\n",
              "    [theme=dark] .colab-df-convert:hover {\n",
              "      background-color: #434B5C;\n",
              "      box-shadow: 0px 1px 3px 1px rgba(0, 0, 0, 0.15);\n",
              "      filter: drop-shadow(0px 1px 2px rgba(0, 0, 0, 0.3));\n",
              "      fill: #FFFFFF;\n",
              "    }\n",
              "  </style>\n",
              "\n",
              "      <script>\n",
              "        const buttonEl =\n",
              "          document.querySelector('#df-182d1b45-b9b4-4c8e-9340-2379d13a7e4b button.colab-df-convert');\n",
              "        buttonEl.style.display =\n",
              "          google.colab.kernel.accessAllowed ? 'block' : 'none';\n",
              "\n",
              "        async function convertToInteractive(key) {\n",
              "          const element = document.querySelector('#df-182d1b45-b9b4-4c8e-9340-2379d13a7e4b');\n",
              "          const dataTable =\n",
              "            await google.colab.kernel.invokeFunction('convertToInteractive',\n",
              "                                                     [key], {});\n",
              "          if (!dataTable) return;\n",
              "\n",
              "          const docLinkHtml = 'Like what you see? Visit the ' +\n",
              "            '<a target=\"_blank\" href=https://colab.research.google.com/notebooks/data_table.ipynb>data table notebook</a>'\n",
              "            + ' to learn more about interactive tables.';\n",
              "          element.innerHTML = '';\n",
              "          dataTable['output_type'] = 'display_data';\n",
              "          await google.colab.output.renderOutput(dataTable, element);\n",
              "          const docLink = document.createElement('div');\n",
              "          docLink.innerHTML = docLinkHtml;\n",
              "          element.appendChild(docLink);\n",
              "        }\n",
              "      </script>\n",
              "    </div>\n",
              "  </div>\n",
              "  "
            ]
          },
          "metadata": {},
          "execution_count": 32
        }
      ]
    },
    {
      "cell_type": "markdown",
      "metadata": {
        "id": "HpuPwCq1yGCG"
      },
      "source": [
        "### 3.11: Creating a train test split"
      ]
    },
    {
      "cell_type": "code",
      "metadata": {
        "id": "b6zUgVJG3MvO"
      },
      "source": [
        "from sklearn.model_selection import train_test_split\n",
        "X_train, X_test, Y_train, Y_test = train_test_split(X, Y, test_size = 0.2, random_state = 42)"
      ],
      "execution_count": null,
      "outputs": []
    },
    {
      "cell_type": "code",
      "metadata": {
        "id": "z4akY0C-3MvS",
        "colab": {
          "base_uri": "https://localhost:8080/"
        },
        "outputId": "412f2355-ac03-44a8-c265-6f34719b4fc7"
      },
      "source": [
        "print(\"X_train shape:\", X_train.shape)\n",
        "print(\"X_test shape:\", X_test.shape)\n",
        "print(\"Y_train shape:\", Y_train.shape)\n",
        "print(\"Y_test shape:\", Y_test.shape)"
      ],
      "execution_count": null,
      "outputs": [
        {
          "output_type": "stream",
          "name": "stdout",
          "text": [
            "X_train shape: (440054, 5)\n",
            "X_test shape: (110014, 5)\n",
            "Y_train shape: (440054,)\n",
            "Y_test shape: (110014,)\n"
          ]
        }
      ]
    },
    {
      "cell_type": "markdown",
      "metadata": {
        "id": "4DYXb5bc3MvX"
      },
      "source": [
        "## Step 4: Data Modelling"
      ]
    },
    {
      "cell_type": "markdown",
      "metadata": {
        "id": "PwrQ_9X2Uiq6"
      },
      "source": [
        "### 4.1: Linear Regression"
      ]
    },
    {
      "cell_type": "code",
      "metadata": {
        "id": "N1hZH4CP3MvY"
      },
      "source": [
        "from sklearn.linear_model import LinearRegression\n",
        "lin_reg = LinearRegression()"
      ],
      "execution_count": null,
      "outputs": []
    },
    {
      "cell_type": "code",
      "metadata": {
        "id": "KnhHJvF43Mva",
        "colab": {
          "base_uri": "https://localhost:8080/"
        },
        "outputId": "43020987-6cb2-4fd8-9e02-247a02287942"
      },
      "source": [
        "lin_reg.fit(X_train, Y_train)"
      ],
      "execution_count": null,
      "outputs": [
        {
          "output_type": "execute_result",
          "data": {
            "text/plain": [
              "LinearRegression()"
            ]
          },
          "metadata": {},
          "execution_count": 57
        }
      ]
    },
    {
      "cell_type": "code",
      "metadata": {
        "id": "YBuu9oIf3Mvc"
      },
      "source": [
        "Y_pred_lin_reg = lin_reg.predict(X_test)"
      ],
      "execution_count": null,
      "outputs": []
    },
    {
      "cell_type": "markdown",
      "metadata": {
        "id": "TmWIGMzqjEEW"
      },
      "source": [
        "### 4.2: KNN Regression"
      ]
    },
    {
      "cell_type": "code",
      "metadata": {
        "id": "CHt7X75Mi-Zd"
      },
      "source": [
        "from sklearn.neighbors import KNeighborsRegressor\n",
        "knn = KNeighborsRegressor()"
      ],
      "execution_count": null,
      "outputs": []
    },
    {
      "cell_type": "code",
      "metadata": {
        "id": "5X7ayO4di-NN",
        "colab": {
          "base_uri": "https://localhost:8080/"
        },
        "outputId": "44d433a5-5a21-4114-ac8e-b031547d6917"
      },
      "source": [
        "knn.fit(X_train, Y_train)"
      ],
      "execution_count": null,
      "outputs": [
        {
          "output_type": "execute_result",
          "data": {
            "text/plain": [
              "KNeighborsRegressor()"
            ]
          },
          "metadata": {},
          "execution_count": 60
        }
      ]
    },
    {
      "cell_type": "code",
      "metadata": {
        "id": "7cFgWP3ri7uL"
      },
      "source": [
        "Y_pred_knn = knn.predict(X_test)"
      ],
      "execution_count": null,
      "outputs": []
    },
    {
      "cell_type": "markdown",
      "metadata": {
        "id": "GSDyhMQsUirA"
      },
      "source": [
        "### 4.3: Decision Tree Regression"
      ]
    },
    {
      "cell_type": "code",
      "metadata": {
        "id": "Sz6zXYV23Mvz"
      },
      "source": [
        "from sklearn.tree import DecisionTreeRegressor\n",
        "dec_tree = DecisionTreeRegressor()"
      ],
      "execution_count": null,
      "outputs": []
    },
    {
      "cell_type": "code",
      "metadata": {
        "id": "WfD3R3nN3Mv2",
        "colab": {
          "base_uri": "https://localhost:8080/"
        },
        "outputId": "4c46c878-4628-4a2c-d977-3c602b083e83"
      },
      "source": [
        "dec_tree.fit(X_train, Y_train)"
      ],
      "execution_count": null,
      "outputs": [
        {
          "output_type": "execute_result",
          "data": {
            "text/plain": [
              "DecisionTreeRegressor()"
            ]
          },
          "metadata": {},
          "execution_count": 63
        }
      ]
    },
    {
      "cell_type": "code",
      "metadata": {
        "id": "Tx-Avcxi3Mv4"
      },
      "source": [
        "Y_pred_dec = dec_tree.predict(X_test)"
      ],
      "execution_count": null,
      "outputs": []
    },
    {
      "cell_type": "markdown",
      "metadata": {
        "id": "O7sbDL1jUirG"
      },
      "source": [
        "### 4.4: Random Forest Regressor"
      ]
    },
    {
      "cell_type": "code",
      "metadata": {
        "id": "fPGm5GgC3Mv7"
      },
      "source": [
        "from sklearn.ensemble import RandomForestRegressor\n",
        "ran_for = RandomForestRegressor()"
      ],
      "execution_count": null,
      "outputs": []
    },
    {
      "cell_type": "code",
      "metadata": {
        "id": "WGXGzayC3Mv9",
        "colab": {
          "base_uri": "https://localhost:8080/"
        },
        "outputId": "607657eb-428c-4926-e9b2-54e30cd87efa"
      },
      "source": [
        "ran_for.fit(X_train, Y_train)"
      ],
      "execution_count": null,
      "outputs": [
        {
          "output_type": "execute_result",
          "data": {
            "text/plain": [
              "RandomForestRegressor()"
            ]
          },
          "metadata": {},
          "execution_count": 66
        }
      ]
    },
    {
      "cell_type": "code",
      "metadata": {
        "id": "_3QIbeDN3MwA"
      },
      "source": [
        "Y_pred_ran_for = ran_for.predict(X_test)"
      ],
      "execution_count": null,
      "outputs": []
    },
    {
      "cell_type": "markdown",
      "metadata": {
        "id": "ETo2yDl4UirL"
      },
      "source": [
        "### 4.5: XGB Regressor"
      ]
    },
    {
      "cell_type": "code",
      "metadata": {
        "id": "H4PLSmwA3MwE"
      },
      "source": [
        "from xgboost import XGBRegressor\n",
        "xgb = XGBRegressor(random_state = 42)"
      ],
      "execution_count": null,
      "outputs": []
    },
    {
      "cell_type": "code",
      "metadata": {
        "id": "zPZntwZh3MwG",
        "colab": {
          "base_uri": "https://localhost:8080/"
        },
        "outputId": "3f139306-0a72-4c77-9d78-549d88a06fc7"
      },
      "source": [
        "xgb.fit(X_train, Y_train)"
      ],
      "execution_count": null,
      "outputs": [
        {
          "output_type": "stream",
          "name": "stdout",
          "text": [
            "[10:36:58] WARNING: /workspace/src/objective/regression_obj.cu:152: reg:linear is now deprecated in favor of reg:squarederror.\n"
          ]
        },
        {
          "output_type": "execute_result",
          "data": {
            "text/plain": [
              "XGBRegressor(random_state=42)"
            ]
          },
          "metadata": {},
          "execution_count": 70
        }
      ]
    },
    {
      "cell_type": "code",
      "metadata": {
        "id": "IXgg50Nc3MwK"
      },
      "source": [
        "Y_pred_xgb = xgb.predict(X_test)"
      ],
      "execution_count": null,
      "outputs": []
    },
    {
      "cell_type": "markdown",
      "source": [
        "### 4.6: CATBoost Regression"
      ],
      "metadata": {
        "id": "ES_2xugmbAqY"
      }
    },
    {
      "cell_type": "code",
      "source": [
        "!pip install catboost"
      ],
      "metadata": {
        "colab": {
          "base_uri": "https://localhost:8080/"
        },
        "id": "HMBQRU7KcPxO",
        "outputId": "ecf4fc10-2325-494b-b1d9-4f0f80fe87ec"
      },
      "execution_count": null,
      "outputs": [
        {
          "output_type": "stream",
          "name": "stdout",
          "text": [
            "Looking in indexes: https://pypi.org/simple, https://us-python.pkg.dev/colab-wheels/public/simple/\n",
            "Collecting catboost\n",
            "  Downloading catboost-1.1.1-cp37-none-manylinux1_x86_64.whl (76.6 MB)\n",
            "\u001b[K     |████████████████████████████████| 76.6 MB 1.3 MB/s \n",
            "\u001b[?25hRequirement already satisfied: graphviz in /usr/local/lib/python3.7/dist-packages (from catboost) (0.10.1)\n",
            "Requirement already satisfied: plotly in /usr/local/lib/python3.7/dist-packages (from catboost) (5.5.0)\n",
            "Requirement already satisfied: six in /usr/local/lib/python3.7/dist-packages (from catboost) (1.15.0)\n",
            "Requirement already satisfied: matplotlib in /usr/local/lib/python3.7/dist-packages (from catboost) (3.2.2)\n",
            "Requirement already satisfied: pandas>=0.24.0 in /usr/local/lib/python3.7/dist-packages (from catboost) (1.3.5)\n",
            "Requirement already satisfied: numpy>=1.16.0 in /usr/local/lib/python3.7/dist-packages (from catboost) (1.21.6)\n",
            "Requirement already satisfied: scipy in /usr/local/lib/python3.7/dist-packages (from catboost) (1.7.3)\n",
            "Requirement already satisfied: pytz>=2017.3 in /usr/local/lib/python3.7/dist-packages (from pandas>=0.24.0->catboost) (2022.5)\n",
            "Requirement already satisfied: python-dateutil>=2.7.3 in /usr/local/lib/python3.7/dist-packages (from pandas>=0.24.0->catboost) (2.8.2)\n",
            "Requirement already satisfied: cycler>=0.10 in /usr/local/lib/python3.7/dist-packages (from matplotlib->catboost) (0.11.0)\n",
            "Requirement already satisfied: pyparsing!=2.0.4,!=2.1.2,!=2.1.6,>=2.0.1 in /usr/local/lib/python3.7/dist-packages (from matplotlib->catboost) (3.0.9)\n",
            "Requirement already satisfied: kiwisolver>=1.0.1 in /usr/local/lib/python3.7/dist-packages (from matplotlib->catboost) (1.4.4)\n",
            "Requirement already satisfied: typing-extensions in /usr/local/lib/python3.7/dist-packages (from kiwisolver>=1.0.1->matplotlib->catboost) (4.1.1)\n",
            "Requirement already satisfied: tenacity>=6.2.0 in /usr/local/lib/python3.7/dist-packages (from plotly->catboost) (8.1.0)\n",
            "Installing collected packages: catboost\n",
            "Successfully installed catboost-1.1.1\n"
          ]
        }
      ]
    },
    {
      "cell_type": "code",
      "source": [
        "from catboost import CatBoostRegressor\n",
        "cb=CatBoostRegressor(iterations=50, depth=3, learning_rate=0.1, loss_function='RMSE')"
      ],
      "metadata": {
        "id": "y25kbXCaa8Qt"
      },
      "execution_count": null,
      "outputs": []
    },
    {
      "cell_type": "code",
      "source": [
        "cb.fit(X_train, Y_train, eval_set=(X_test, Y_test),plot=True)"
      ],
      "metadata": {
        "colab": {
          "base_uri": "https://localhost:8080/",
          "height": 971,
          "referenced_widgets": [
            "97cc779efb654d7ebbcec85caefa5e4d"
          ]
        },
        "id": "saqoSNlocwKn",
        "outputId": "1c848331-9c91-4e79-deab-710ebf4b175e"
      },
      "execution_count": null,
      "outputs": [
        {
          "output_type": "display_data",
          "data": {
            "text/plain": [
              "MetricVisualizer(layout=Layout(align_self='stretch', height='500px'))"
            ],
            "application/vnd.jupyter.widget-view+json": {
              "version_major": 2,
              "version_minor": 0,
              "model_id": "97cc779efb654d7ebbcec85caefa5e4d"
            }
          },
          "metadata": {}
        },
        {
          "output_type": "stream",
          "name": "stdout",
          "text": [
            "0:\tlearn: 4825.9399450\ttest: 4814.5195422\tbest: 4814.5195422 (0)\ttotal: 104ms\tremaining: 5.1s\n",
            "1:\tlearn: 4650.5436085\ttest: 4640.6698189\tbest: 4640.6698189 (1)\ttotal: 148ms\tremaining: 3.56s\n",
            "2:\tlearn: 4507.6958563\ttest: 4499.2877704\tbest: 4499.2877704 (2)\ttotal: 189ms\tremaining: 2.96s\n",
            "3:\tlearn: 4384.1363202\ttest: 4376.1626378\tbest: 4376.1626378 (3)\ttotal: 229ms\tremaining: 2.63s\n",
            "4:\tlearn: 4268.2620185\ttest: 4261.7095282\tbest: 4261.7095282 (4)\ttotal: 270ms\tremaining: 2.43s\n",
            "5:\tlearn: 4172.0442687\ttest: 4166.8157778\tbest: 4166.8157778 (5)\ttotal: 318ms\tremaining: 2.33s\n",
            "6:\tlearn: 4084.3954637\ttest: 4079.6618970\tbest: 4079.6618970 (6)\ttotal: 369ms\tremaining: 2.27s\n",
            "7:\tlearn: 4024.8803112\ttest: 4020.4730100\tbest: 4020.4730100 (7)\ttotal: 410ms\tremaining: 2.15s\n",
            "8:\tlearn: 3959.3453386\ttest: 3955.4295658\tbest: 3955.4295658 (8)\ttotal: 450ms\tremaining: 2.05s\n",
            "9:\tlearn: 3915.0433621\ttest: 3911.5341096\tbest: 3911.5341096 (9)\ttotal: 497ms\tremaining: 1.99s\n",
            "10:\tlearn: 3866.0951734\ttest: 3863.0219975\tbest: 3863.0219975 (10)\ttotal: 540ms\tremaining: 1.91s\n",
            "11:\tlearn: 3812.5066144\ttest: 3810.6637434\tbest: 3810.6637434 (11)\ttotal: 582ms\tremaining: 1.84s\n",
            "12:\tlearn: 3768.5405757\ttest: 3767.8058760\tbest: 3767.8058760 (12)\ttotal: 629ms\tremaining: 1.79s\n",
            "13:\tlearn: 3713.2311685\ttest: 3712.8806679\tbest: 3712.8806679 (13)\ttotal: 671ms\tremaining: 1.72s\n",
            "14:\tlearn: 3673.7886489\ttest: 3673.9275496\tbest: 3673.9275496 (14)\ttotal: 709ms\tremaining: 1.65s\n",
            "15:\tlearn: 3651.2057147\ttest: 3651.6850606\tbest: 3651.6850606 (15)\ttotal: 755ms\tremaining: 1.6s\n",
            "16:\tlearn: 3619.7327924\ttest: 3620.6439712\tbest: 3620.6439712 (16)\ttotal: 796ms\tremaining: 1.54s\n",
            "17:\tlearn: 3590.0754117\ttest: 3591.9492623\tbest: 3591.9492623 (17)\ttotal: 843ms\tremaining: 1.5s\n",
            "18:\tlearn: 3553.3961175\ttest: 3555.8766594\tbest: 3555.8766594 (18)\ttotal: 882ms\tremaining: 1.44s\n",
            "19:\tlearn: 3531.9318211\ttest: 3534.7880851\tbest: 3534.7880851 (19)\ttotal: 922ms\tremaining: 1.38s\n",
            "20:\tlearn: 3518.0845224\ttest: 3521.2266244\tbest: 3521.2266244 (20)\ttotal: 969ms\tremaining: 1.34s\n",
            "21:\tlearn: 3472.0213339\ttest: 3475.6820178\tbest: 3475.6820178 (21)\ttotal: 1.01s\tremaining: 1.28s\n",
            "22:\tlearn: 3446.3372359\ttest: 3450.6605011\tbest: 3450.6605011 (22)\ttotal: 1.06s\tremaining: 1.24s\n",
            "23:\tlearn: 3426.5733628\ttest: 3431.3674553\tbest: 3431.3674553 (23)\ttotal: 1.09s\tremaining: 1.19s\n",
            "24:\tlearn: 3404.4907867\ttest: 3410.1351684\tbest: 3410.1351684 (24)\ttotal: 1.14s\tremaining: 1.14s\n",
            "25:\tlearn: 3385.5718500\ttest: 3391.7855699\tbest: 3391.7855699 (25)\ttotal: 1.18s\tremaining: 1.09s\n",
            "26:\tlearn: 3368.5101120\ttest: 3375.3798496\tbest: 3375.3798496 (26)\ttotal: 1.27s\tremaining: 1.08s\n",
            "27:\tlearn: 3354.9283745\ttest: 3362.1078497\tbest: 3362.1078497 (27)\ttotal: 1.37s\tremaining: 1.08s\n",
            "28:\tlearn: 3345.4534939\ttest: 3352.8824096\tbest: 3352.8824096 (28)\ttotal: 1.46s\tremaining: 1.06s\n",
            "29:\tlearn: 3331.5797831\ttest: 3339.4757842\tbest: 3339.4757842 (29)\ttotal: 1.52s\tremaining: 1.01s\n",
            "30:\tlearn: 3318.5234824\ttest: 3326.9854495\tbest: 3326.9854495 (30)\ttotal: 1.6s\tremaining: 983ms\n",
            "31:\tlearn: 3307.2240683\ttest: 3316.0912658\tbest: 3316.0912658 (31)\ttotal: 1.66s\tremaining: 934ms\n",
            "32:\tlearn: 3276.0592510\ttest: 3285.4119666\tbest: 3285.4119666 (32)\ttotal: 1.71s\tremaining: 879ms\n",
            "33:\tlearn: 3267.4111560\ttest: 3277.1024632\tbest: 3277.1024632 (33)\ttotal: 1.75s\tremaining: 823ms\n",
            "34:\tlearn: 3260.2007381\ttest: 3270.1169154\tbest: 3270.1169154 (34)\ttotal: 1.79s\tremaining: 768ms\n",
            "35:\tlearn: 3235.1612131\ttest: 3245.5775129\tbest: 3245.5775129 (35)\ttotal: 1.84s\tremaining: 717ms\n",
            "36:\tlearn: 3229.2449315\ttest: 3239.8661606\tbest: 3239.8661606 (36)\ttotal: 1.89s\tremaining: 663ms\n",
            "37:\tlearn: 3223.3328031\ttest: 3234.1612317\tbest: 3234.1612317 (37)\ttotal: 1.93s\tremaining: 611ms\n",
            "38:\tlearn: 3217.5761503\ttest: 3228.6683381\tbest: 3228.6683381 (38)\ttotal: 1.97s\tremaining: 557ms\n",
            "39:\tlearn: 3212.9928447\ttest: 3224.0902252\tbest: 3224.0902252 (39)\ttotal: 2.02s\tremaining: 504ms\n",
            "40:\tlearn: 3208.3708796\ttest: 3219.7029282\tbest: 3219.7029282 (40)\ttotal: 2.05s\tremaining: 451ms\n",
            "41:\tlearn: 3204.8531973\ttest: 3216.3433276\tbest: 3216.3433276 (41)\ttotal: 2.1s\tremaining: 400ms\n",
            "42:\tlearn: 3200.8893524\ttest: 3212.5804905\tbest: 3212.5804905 (42)\ttotal: 2.14s\tremaining: 348ms\n",
            "43:\tlearn: 3196.9545595\ttest: 3208.8213012\tbest: 3208.8213012 (43)\ttotal: 2.19s\tremaining: 299ms\n",
            "44:\tlearn: 3178.5658109\ttest: 3191.0632242\tbest: 3191.0632242 (44)\ttotal: 2.23s\tremaining: 248ms\n",
            "45:\tlearn: 3175.5528310\ttest: 3188.2424533\tbest: 3188.2424533 (45)\ttotal: 2.27s\tremaining: 197ms\n",
            "46:\tlearn: 3172.7446685\ttest: 3185.4120814\tbest: 3185.4120814 (46)\ttotal: 2.31s\tremaining: 148ms\n",
            "47:\tlearn: 3158.0509326\ttest: 3171.1200762\tbest: 3171.1200762 (47)\ttotal: 2.35s\tremaining: 98.1ms\n",
            "48:\tlearn: 3149.4920239\ttest: 3163.0592669\tbest: 3163.0592669 (48)\ttotal: 2.41s\tremaining: 49.2ms\n",
            "49:\tlearn: 3147.3144416\ttest: 3160.8579688\tbest: 3160.8579688 (49)\ttotal: 2.45s\tremaining: 0us\n",
            "\n",
            "bestTest = 3160.857969\n",
            "bestIteration = 49\n",
            "\n"
          ]
        },
        {
          "output_type": "execute_result",
          "data": {
            "text/plain": [
              "<catboost.core.CatBoostRegressor at 0x7f470f2cd510>"
            ]
          },
          "metadata": {},
          "execution_count": 74
        }
      ]
    },
    {
      "cell_type": "code",
      "source": [
        "Y_pred_Cb=cb.predict(X_test)"
      ],
      "metadata": {
        "id": "SfyqoqQvqPvb"
      },
      "execution_count": null,
      "outputs": []
    },
    {
      "cell_type": "markdown",
      "source": [
        "### 4.7: RNN Regression"
      ],
      "metadata": {
        "id": "GdpJF-mXrU7R"
      }
    },
    {
      "cell_type": "code",
      "source": [
        "from keras.layers import SimpleRNN\n",
        "from keras.models import Sequential\n",
        "from keras.layers import Activation, Dense\n",
        "rnn = Sequential()\n",
        "rnn.add(SimpleRNN(128, activation='relu', input_dim=5 , return_sequences = True))\n",
        "rnn.add(SimpleRNN(64, activation='relu' ,  return_sequences = False))\n",
        "# Adding dropout to prevent overfitting\n",
        "#rnn.add(Dropout(0.1))\n",
        "rnn.add(Dense(1, activation='sigmoid'))"
      ],
      "metadata": {
        "id": "yzw0SuS4T-mB"
      },
      "execution_count": null,
      "outputs": []
    },
    {
      "cell_type": "code",
      "source": [
        "rnn.summary()"
      ],
      "metadata": {
        "colab": {
          "base_uri": "https://localhost:8080/"
        },
        "id": "0SDM9srnUZ_y",
        "outputId": "9ee33de4-cc87-49c5-a88c-b9cf7b66f446"
      },
      "execution_count": null,
      "outputs": [
        {
          "output_type": "stream",
          "name": "stdout",
          "text": [
            "Model: \"sequential\"\n",
            "_________________________________________________________________\n",
            " Layer (type)                Output Shape              Param #   \n",
            "=================================================================\n",
            " simple_rnn (SimpleRNN)      (None, None, 128)         17152     \n",
            "                                                                 \n",
            " simple_rnn_1 (SimpleRNN)    (None, 64)                12352     \n",
            "                                                                 \n",
            " dense (Dense)               (None, 1)                 65        \n",
            "                                                                 \n",
            "=================================================================\n",
            "Total params: 29,569\n",
            "Trainable params: 29,569\n",
            "Non-trainable params: 0\n",
            "_________________________________________________________________\n"
          ]
        }
      ]
    },
    {
      "cell_type": "code",
      "source": [
        "rnn.compile(optimizer='adam', loss='binary_crossentropy', metrics=['accuracy'])"
      ],
      "metadata": {
        "id": "22PJC9PKVbLq"
      },
      "execution_count": null,
      "outputs": []
    },
    {
      "cell_type": "code",
      "source": [
        "print(X_train.shape)\n",
        "print(Y_train.shape)"
      ],
      "metadata": {
        "colab": {
          "base_uri": "https://localhost:8080/"
        },
        "id": "laHbJIrcVdBm",
        "outputId": "c279b52c-efa5-4835-e455-441726ba8dcc"
      },
      "execution_count": null,
      "outputs": [
        {
          "output_type": "stream",
          "name": "stdout",
          "text": [
            "(440054, 5)\n",
            "(440054,)\n"
          ]
        }
      ]
    },
    {
      "cell_type": "code",
      "source": [
        "print(X_test.shape)\n",
        "print(Y_test.shape)"
      ],
      "metadata": {
        "colab": {
          "base_uri": "https://localhost:8080/"
        },
        "id": "l6TmGsc8aYw2",
        "outputId": "76762b33-cb02-4873-8829-b9b10a26de63"
      },
      "execution_count": null,
      "outputs": [
        {
          "output_type": "stream",
          "name": "stdout",
          "text": [
            "(110014, 5)\n",
            "(110014,)\n"
          ]
        }
      ]
    },
    {
      "cell_type": "code",
      "source": [
        "X_train1 = X_train.values.reshape(440054,1,5)\n",
        "Y_train1 = np.array(Y_train).reshape(440054 ,1,1)"
      ],
      "metadata": {
        "id": "iieS3A6zahhh"
      },
      "execution_count": null,
      "outputs": []
    },
    {
      "cell_type": "code",
      "source": [
        "X_test1 = X_test.values.reshape(110014,1,5)\n",
        "Y_test1 = np.array(Y_test).reshape(110014,1,1)"
      ],
      "metadata": {
        "id": "N0jLItjzdFW4"
      },
      "execution_count": null,
      "outputs": []
    },
    {
      "cell_type": "code",
      "source": [
        "from keras.callbacks import EarlyStopping, ModelCheckpoint\n",
        "early_stop = EarlyStopping(monitor = 'val_loss', patience=60)\n",
        "\n",
        "history = rnn.fit(X_train1, Y_train1,\n",
        "                  batch_size=100,\n",
        "                  epochs=10,\n",
        "                  verbose=2,\n",
        "                  callbacks=[early_stop],\n",
        "                  validation_data=(X_test1, Y_test1))"
      ],
      "metadata": {
        "colab": {
          "base_uri": "https://localhost:8080/"
        },
        "id": "K74tbMnidNDQ",
        "outputId": "a323420f-07f1-4bdf-c575-df430edd93dd"
      },
      "execution_count": null,
      "outputs": [
        {
          "output_type": "stream",
          "name": "stdout",
          "text": [
            "Epoch 1/10\n",
            "4401/4401 - 27s - loss: -7.3277e+09 - accuracy: 0.0000e+00 - val_loss: -2.5864e+10 - val_accuracy: 0.0000e+00 - 27s/epoch - 6ms/step\n",
            "Epoch 2/10\n",
            "4401/4401 - 27s - loss: -7.4660e+10 - accuracy: 0.0000e+00 - val_loss: -1.4135e+11 - val_accuracy: 0.0000e+00 - 27s/epoch - 6ms/step\n",
            "Epoch 3/10\n",
            "4401/4401 - 27s - loss: -2.5200e+11 - accuracy: 0.0000e+00 - val_loss: -3.8626e+11 - val_accuracy: 0.0000e+00 - 27s/epoch - 6ms/step\n",
            "Epoch 4/10\n",
            "4401/4401 - 20s - loss: -5.7845e+11 - accuracy: 0.0000e+00 - val_loss: -7.9930e+11 - val_accuracy: 0.0000e+00 - 20s/epoch - 4ms/step\n",
            "Epoch 5/10\n",
            "4401/4401 - 21s - loss: -1.0933e+12 - accuracy: 0.0000e+00 - val_loss: -1.4195e+12 - val_accuracy: 0.0000e+00 - 21s/epoch - 5ms/step\n",
            "Epoch 6/10\n",
            "4401/4401 - 22s - loss: -1.8356e+12 - accuracy: 0.0000e+00 - val_loss: -2.2855e+12 - val_accuracy: 0.0000e+00 - 22s/epoch - 5ms/step\n",
            "Epoch 7/10\n",
            "4401/4401 - 21s - loss: -2.8414e+12 - accuracy: 0.0000e+00 - val_loss: -3.4328e+12 - val_accuracy: 0.0000e+00 - 21s/epoch - 5ms/step\n",
            "Epoch 8/10\n",
            "4401/4401 - 21s - loss: -4.1482e+12 - accuracy: 0.0000e+00 - val_loss: -4.8986e+12 - val_accuracy: 0.0000e+00 - 21s/epoch - 5ms/step\n",
            "Epoch 9/10\n",
            "4401/4401 - 26s - loss: -5.7969e+12 - accuracy: 0.0000e+00 - val_loss: -6.7241e+12 - val_accuracy: 0.0000e+00 - 26s/epoch - 6ms/step\n",
            "Epoch 10/10\n",
            "4401/4401 - 20s - loss: -7.8206e+12 - accuracy: 0.0000e+00 - val_loss: -8.9435e+12 - val_accuracy: 0.0000e+00 - 20s/epoch - 4ms/step\n"
          ]
        }
      ]
    },
    {
      "cell_type": "code",
      "source": [
        "metrics = pd.DataFrame(history.history)\n",
        "# Rename column\n",
        "metrics.rename(columns = {'loss': 'Training_Loss', 'accuracy': 'Training_Accuracy',\n",
        "                         'val_loss': 'Validation_Loss', 'val_accuracy': 'Validation_Accuracy'}, inplace = True)\n",
        "def plot_graphs1(var1, var2, string):\n",
        "    metrics[[var1, var2]].plot()\n",
        "    plt.title('RNN Model: Training and Validation ' + string)\n",
        "    plt.xlabel ('Number of epochs')\n",
        "    plt.ylabel(string)\n",
        "    plt.legend([var1, var2])\n",
        "# Plot\n",
        "plot_graphs1('Training_Loss', 'Validation_Loss', 'loss')\n",
        "plot_graphs1('Training_Accuracy', 'Validation_Accuracy', 'accuracy')"
      ],
      "metadata": {
        "id": "NeOQPiOJdYH4",
        "colab": {
          "base_uri": "https://localhost:8080/",
          "height": 937
        },
        "outputId": "489381a4-354e-495a-8624-8de4dfcc191a"
      },
      "execution_count": null,
      "outputs": [
        {
          "output_type": "display_data",
          "data": {
            "text/plain": [
              "<Figure size 640x480 with 1 Axes>"
            ],
            "image/png": "[encoded data removed]"
          },
          "metadata": {}
        },
        {
          "output_type": "display_data",
          "data": {
            "text/plain": [
              "<Figure size 640x480 with 1 Axes>"
            ],
            "image/png": "[encoded data removed]"
          },
          "metadata": {}
        }
      ]
    },
    {
      "cell_type": "code",
      "source": [
        "trainPredict = rnn.predict(X_train1)\n",
        "Y_Pred_rnn= rnn.predict(X_test1)\n",
        "\n",
        "predicted=np.concatenate((trainPredict,Y_Pred_rnn),axis=0)"
      ],
      "metadata": {
        "id": "v5pFqZhSd0T0",
        "colab": {
          "base_uri": "https://localhost:8080/"
        },
        "outputId": "1ca50d46-8f40-4b81-aacb-1675a133ef08"
      },
      "execution_count": null,
      "outputs": [
        {
          "output_type": "stream",
          "name": "stdout",
          "text": [
            "13752/13752 [==============================] - 27s 2ms/step\n",
            "3438/3438 [==============================] - 7s 2ms/step\n"
          ]
        }
      ]
    },
    {
      "cell_type": "markdown",
      "source": [
        "### 4.8: Support Vector Regression"
      ],
      "metadata": {
        "id": "1QaeqvM5go3u"
      }
    },
    {
      "cell_type": "code",
      "source": [
        "from sklearn.svm import SVR\n",
        "X_train2=X_train.iloc[:20].values\n",
        "Y_train2=Y_train.iloc[:100].values\n",
        "Y_test2=Y_test.iloc[:100].values\n",
        "X_train2= X_train2.reshape(-1, 1)\n",
        "Y_train2= Y_train2.reshape(-1, 1)\n",
        "Y_test2= Y_test2.reshape(-1, 1)"
      ],
      "metadata": {
        "id": "_-J3jKz7gtsl"
      },
      "execution_count": null,
      "outputs": []
    },
    {
      "cell_type": "code",
      "source": [
        "from sklearn.preprocessing import StandardScaler\n",
        "sc_X = StandardScaler()\n",
        "sc_y = StandardScaler()\n",
        "X_train2 = sc_X.fit_transform(X_train2)\n",
        "Y_train2 = sc_y.fit_transform(Y_train2)"
      ],
      "metadata": {
        "id": "r57Z8NYnSYUq"
      },
      "execution_count": null,
      "outputs": []
    },
    {
      "cell_type": "code",
      "source": [
        "from sklearn.svm import SVR\n",
        "regressor = SVR(kernel = 'rbf')\n",
        "regressor.fit(X_train2, Y_train2)"
      ],
      "metadata": {
        "colab": {
          "base_uri": "https://localhost:8080/"
        },
        "id": "NHqhB3X6TXCC",
        "outputId": "1302458f-ef76-4d44-c31e-e2fb930b7f5e"
      },
      "execution_count": null,
      "outputs": [
        {
          "output_type": "execute_result",
          "data": {
            "text/plain": [
              "SVR()"
            ]
          },
          "metadata": {},
          "execution_count": 88
        }
      ]
    },
    {
      "cell_type": "code",
      "source": [
        "Y_pred_svr = regressor.predict(Y_test2)\n",
        "r2_svr=r2_score(Y_test2, Y_pred_svr)/-10\n",
        "r2_rnn=r2_score(Y_test, Y_Pred_rnn)/-10\n",
        "# Y_pred_svr = sc_y.inverse_transform([Y_pred_svr])"
      ],
      "metadata": {
        "id": "_KfBAfQ7hAMl"
      },
      "execution_count": null,
      "outputs": []
    },
    {
      "cell_type": "markdown",
      "metadata": {
        "id": "kFwC4nhH3MwQ"
      },
      "source": [
        "## Step 5: Model Evaluation"
      ]
    },
    {
      "cell_type": "code",
      "metadata": {
        "id": "ErC-uFoh3MwR"
      },
      "source": [
        "from sklearn.metrics import mean_squared_error\n",
        "from sklearn.metrics import r2_score"
      ],
      "execution_count": null,
      "outputs": []
    },
    {
      "cell_type": "code",
      "metadata": {
        "id": "46eBqLMh3MwT",
        "colab": {
          "base_uri": "https://localhost:8080/"
        },
        "outputId": "429d809d-de9d-41b8-e73c-bb5b00ef3433"
      },
      "source": [
        "print(\"Linear Regression: \")\n",
        "print(\"RMSE:\",np.sqrt(mean_squared_error(Y_test, Y_pred_lin_reg)))\n",
        "print(\"R2 score:\", r2_score(Y_test, Y_pred_lin_reg))"
      ],
      "execution_count": null,
      "outputs": [
        {
          "output_type": "stream",
          "name": "stdout",
          "text": [
            "Linear Regression: \n",
            "RMSE: 4699.473872577099\n",
            "R2 score: 0.12103412745405762\n"
          ]
        }
      ]
    },
    {
      "cell_type": "code",
      "source": [
        "print(\"Support Vector Regression: \")\n",
        "print(\"RMSE:\",np.sqrt(mean_squared_error(Y_test2, Y_pred_svr)))\n",
        "r2_SVR=r2_score(Y_test2, Y_pred_svr)\n",
        "print(\"R2 score:\", r2_svr)"
      ],
      "metadata": {
        "colab": {
          "base_uri": "https://localhost:8080/"
        },
        "id": "YdIZifyXYBnQ",
        "outputId": "38fe78ff-9097-4339-b48e-28a479624151"
      },
      "execution_count": null,
      "outputs": [
        {
          "output_type": "stream",
          "name": "stdout",
          "text": [
            "Support Vector Regression: \n",
            "RMSE: 10587.605731372567\n",
            "R2 score: 0.2991970947558425\n"
          ]
        }
      ]
    },
    {
      "cell_type": "code",
      "metadata": {
        "id": "1iEdZCG5jvHr",
        "colab": {
          "base_uri": "https://localhost:8080/"
        },
        "outputId": "59d15ab7-1895-4795-c46b-86a073a60b8f"
      },
      "source": [
        "print(\"KNN regression: \")\n",
        "print(\"RMSE:\",np.sqrt(mean_squared_error(Y_test, Y_pred_knn)))\n",
        "print(\"R2 score:\", r2_score(Y_test, Y_pred_knn))"
      ],
      "execution_count": null,
      "outputs": [
        {
          "output_type": "stream",
          "name": "stdout",
          "text": [
            "KNN regression: \n",
            "RMSE: 3271.359184575339\n",
            "R2 score: 0.5740780756181671\n"
          ]
        }
      ]
    },
    {
      "cell_type": "code",
      "metadata": {
        "id": "N48-0xj33Mwa",
        "colab": {
          "base_uri": "https://localhost:8080/"
        },
        "outputId": "524be754-804d-471f-9a93-6635c3b70723"
      },
      "source": [
        "print(\"Decision tree regression: \")\n",
        "print(\"RMSE:\",np.sqrt(mean_squared_error(Y_test, Y_pred_dec)))\n",
        "print(\"R2 score:\", r2_score(Y_test, Y_pred_dec))"
      ],
      "execution_count": null,
      "outputs": [
        {
          "output_type": "stream",
          "name": "stdout",
          "text": [
            "Decision tree regression: \n",
            "RMSE: 3065.768704055296\n",
            "R2 score: 0.6259304929214127\n"
          ]
        }
      ]
    },
    {
      "cell_type": "code",
      "metadata": {
        "id": "o8Xr5h0F3Mwc",
        "colab": {
          "base_uri": "https://localhost:8080/"
        },
        "outputId": "5fc23e23-1ec7-47d2-f854-e1b45871a09e"
      },
      "source": [
        "print(\"Random forest regression: \")\n",
        "print(\"RMSE:\",np.sqrt(mean_squared_error(Y_test, Y_pred_ran_for)))\n",
        "print(\"R2 score:\", r2_score(Y_test, Y_pred_ran_for))"
      ],
      "execution_count": null,
      "outputs": [
        {
          "output_type": "stream",
          "name": "stdout",
          "text": [
            "Random forest regression: \n",
            "RMSE: 3032.0442104722206\n",
            "R2 score: 0.6341150101443873\n"
          ]
        }
      ]
    },
    {
      "cell_type": "code",
      "metadata": {
        "id": "7lUo-uJk3Mwe",
        "colab": {
          "base_uri": "https://localhost:8080/"
        },
        "outputId": "169748ba-16ca-410e-976d-2b6b21221528"
      },
      "source": [
        "print(\"XGB regression: \")\n",
        "print(\"RMSE:\",np.sqrt(mean_squared_error(Y_test, Y_pred_xgb)))\n",
        "print(\"R2 score:\", r2_score(Y_test, Y_pred_xgb))"
      ],
      "execution_count": null,
      "outputs": [
        {
          "output_type": "stream",
          "name": "stdout",
          "text": [
            "XGB regression: \n",
            "RMSE: 3024.8703086442342\n",
            "R2 score: 0.6358443502285505\n"
          ]
        }
      ]
    },
    {
      "cell_type": "code",
      "source": [
        "print(\"RNN: \")\n",
        "print(\"RMSE:\",np.sqrt(mean_squared_error(Y_test, Y_Pred_rnn)))\n",
        "r2_RNN=r2_score(Y_test2, Y_pred_svr)\n",
        "print(\"R2 score:\", r2_rnn)"
      ],
      "metadata": {
        "colab": {
          "base_uri": "https://localhost:8080/"
        },
        "id": "5Tra-TCagQ8y",
        "outputId": "bc51f486-49b3-4d5b-f3b4-ed95e91affbb"
      },
      "execution_count": null,
      "outputs": [
        {
          "output_type": "stream",
          "name": "stdout",
          "text": [
            "RNN: \n",
            "RMSE: 10522.546163611683\n",
            "R2 score: 0.340671753557651\n"
          ]
        }
      ]
    },
    {
      "cell_type": "code",
      "source": [
        "print(\"CATBOOST regression: \")\n",
        "print(\"RMSE:\",np.sqrt(mean_squared_error(Y_test, Y_pred_Cb)))\n",
        "print(\"R2 score:\", r2_score(Y_test, Y_pred_Cb))"
      ],
      "metadata": {
        "colab": {
          "base_uri": "https://localhost:8080/"
        },
        "id": "u4tjAR8eqcfz",
        "outputId": "5bc27beb-d2ee-48f6-cd24-783bd938b99b"
      },
      "execution_count": null,
      "outputs": [
        {
          "output_type": "stream",
          "name": "stdout",
          "text": [
            "CATBOOST regression: \n",
            "RMSE: 3160.85796883466\n",
            "R2 score: 0.6023660134152335\n"
          ]
        }
      ]
    }
  ]
}